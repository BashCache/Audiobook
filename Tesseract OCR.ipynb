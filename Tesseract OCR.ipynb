{
 "cells": [
  {
   "cell_type": "code",
   "execution_count": 33,
   "metadata": {},
   "outputs": [],
   "source": [
    "from PIL import Image\n",
    "import pytesseract\n",
    "import re\n",
    "import imutils\n",
    "from pytesseract import Output\n",
    "import cv2\n",
    "import os\n",
    "from gtts import gTTS\n",
    "\n",
    "pytesseract.pytesseract.tesseract_cmd = r'C:/Program Files/Tesseract-OCR/tesseract.exe'"
   ]
  },
  {
   "cell_type": "code",
   "execution_count": 34,
   "metadata": {},
   "outputs": [
    {
     "data": {
      "text/plain": [
       "LooseVersion ('5.0.0-alpha.20200328')"
      ]
     },
     "execution_count": 34,
     "metadata": {},
     "output_type": "execute_result"
    }
   ],
   "source": [
    "pytesseract. get_tesseract_version() "
   ]
  },
  {
   "cell_type": "markdown",
   "metadata": {},
   "source": [
    "### PDF as input\n",
    "Convert PDF to image first and then apply pre-processing techniques"
   ]
  },
  {
   "cell_type": "code",
   "execution_count": 2,
   "metadata": {
    "scrolled": true
   },
   "outputs": [],
   "source": [
    "from pdf2image import convert_from_path\n",
    "pages = convert_from_path('mv.pdf', poppler_path=r'C:\\Users\\admin\\Downloads\\poppler-0.68.0_x86\\poppler-0.68.0\\bin')"
   ]
  },
  {
   "cell_type": "code",
   "execution_count": 4,
   "metadata": {},
   "outputs": [],
   "source": [
    "dir_name = 'mv'\n",
    "os.makedirs(dir_name)"
   ]
  },
  {
   "cell_type": "code",
   "execution_count": 5,
   "metadata": {},
   "outputs": [],
   "source": [
    "i=1\n",
    "for pg in pages:\n",
    "    filename = dir_name + str(i) + \".jpeg\"\n",
    "    i = i+1\n",
    "    completeName = os.path.join(dir_name, filename)\n",
    "    pg.save(completeName, 'JPEG')"
   ]
  },
  {
   "cell_type": "markdown",
   "metadata": {},
   "source": [
    "### PRE- PROCESSING\n",
    "For now only the last page is pre-processed and worked upon"
   ]
  },
  {
   "cell_type": "markdown",
   "metadata": {},
   "source": [
    "#### Converting to GrayScale"
   ]
  },
  {
   "cell_type": "code",
   "execution_count": 35,
   "metadata": {},
   "outputs": [],
   "source": [
    "# completeName = '15.png'\n",
    "img = cv2.imread('mv/mv1.jpg')\n",
    "img = cv2.cvtColor(img, cv2.COLOR_BGR2GRAY)"
   ]
  },
  {
   "cell_type": "markdown",
   "metadata": {},
   "source": [
    "#### Adjusting the orientation "
   ]
  },
  {
   "cell_type": "code",
   "execution_count": 36,
   "metadata": {},
   "outputs": [
    {
     "name": "stdout",
     "output_type": "stream",
     "text": [
      "{'page_num': 0, 'orientation': 0, 'rotate': 0, 'orientation_conf': 29.93, 'script': 'Latin', 'script_conf': 3.65} 0 <class 'dict'> 0\n"
     ]
    }
   ],
   "source": [
    "newdata=pytesseract.image_to_osd(img, output_type=Output.DICT)\n",
    "print(newdata, newdata['rotate'], type(newdata), newdata['orientation'])\n",
    "img = imutils.rotate_bound(img, newdata['rotate'])"
   ]
  },
  {
   "cell_type": "code",
   "execution_count": 37,
   "metadata": {},
   "outputs": [
    {
     "name": "stdout",
     "output_type": "stream",
     "text": [
      "3069\n",
      "Journal of Soft Computing Paradigm (JSCP) (2020)\n",
      "Vol.02/ No.03\n",
      "\n",
      "Pages: 140-152\n",
      "\n",
      "http://irojournals.com/jscp/\n",
      "\n",
      "DOE: https://doi.org/10.36548/jscp.2020.3.001\n",
      "\n",
      "MOOCVERSITY - Deep Learning Based Dropout Prediction in MOOCs\n",
      "over Weeks\n",
      "\n",
      "Vignesh Muthukumar,\n",
      "\n",
      "Department of Information Technology,\n",
      "S.S.N. College of Engineering,\n",
      "\n",
      "Anna University,\n",
      "\n",
      "Chennai, India\n",
      "vigneshm15123@it.ssn.edu.in\n",
      "\n",
      "Dr. N. Bhalaji,\n",
      "\n",
      "Associate Professor\n",
      "\n",
      "Department of Information Technology,\n",
      "S.S.N. College of Engineering,\n",
      "\n",
      "Anna University,\n",
      "\n",
      "Chennai, India\n",
      "\n",
      "bhalajin@ssn.edu.in\n",
      "\n",
      "Abstract: Massive Open Online Courses (MOOCs) has seen a dramatic increase of participants in the last few years with an\n",
      "exponential growth of internet users all around the world. MOOC allows users to attend lectures of top professors from world\n",
      "class universities. Despite flexible accessibility, the common trend observed in each course is that the number of active\n",
      "participants appears to decrease exponentially as the week’s progress. The structure and nature of the courses affects the\n",
      "number of active participants directly. A comprehensive review of the available literature shows that very little intensive work\n",
      "was done using the pattern of user interaction with courses in the field of MOOC data analysis. In this paper, we take an initial\n",
      "step to use the deep learning algorithm to construct the dropout prediction model and produce the predicted individual student\n",
      "dropout probability. Additional improvements are made to optimize the performance of the dropout prediction model and\n",
      "provide the course providers with appropriate interventions based on a temporal prediction mechanism. Our Exploratory Data\n",
      "Analysis demonstrates that there is a strong correlation between click stream actions and successful learner outcomes. Among\n",
      "other features, the deep learning algorithm takes the weekly history of student data into account and thus is able to notice\n",
      "changes in student behaviour over time.\n",
      "\n",
      "Keywords: Deep Learning, Dropout Prediction, MOOCs, Multilayer Feedforward Neural Network, Clickstream data analysis,\n",
      "Personalized student performance, Student Attrition, Tomek Links.\n",
      "\n",
      "1 Introduction\n",
      "As an extension of online learning technologies, MOOCs' rapid development has opened up a new era\n",
      "\n",
      "of education by broadening educational boundaries over the Internet. Massively Open Online Courses\n",
      "(MOOCs) offer tremendous learning opportunities in a scalable form to students. Coursera, HarvardX,\n",
      "and Udacity are some examples of MOOCs. The learners are given privileges in popular MOOC\n",
      "platforms to access video lectures, annotated video slides, transcripts, take up quiz and assignment,\n",
      "complete a grading examination and post their queries in discussion forums. MOOCSs typically have no\n",
      "enrollment limit because of their online and open nature and allow anyone to participate or drop out\n",
      "without penalty. However, since this student population is significantly different in terms of degree of\n",
      "\n",
      "140\n",
      "ISSN: 2582-2640 (online)\n",
      "Submitted: 08.05.2020 c\n",
      "Accepted: 21.06.2020 f y\n",
      "Published: 27.06.2020 _—\n",
      "\n",
      "satin,\n",
      "o¥\n",
      "\f",
      "\n"
     ]
    }
   ],
   "source": [
    "text = pytesseract.image_to_string(img, lang = 'eng')\n",
    "print(len(text))\n",
    "print(text)"
   ]
  },
  {
   "cell_type": "code",
   "execution_count": 38,
   "metadata": {},
   "outputs": [
    {
     "name": "stdout",
     "output_type": "stream",
     "text": [
      "509\n"
     ]
    },
    {
     "data": {
      "text/plain": [
       "True"
      ]
     },
     "execution_count": 38,
     "metadata": {},
     "output_type": "execute_result"
    }
   ],
   "source": [
    "d = pytesseract.image_to_data(img, output_type=Output.DICT)\n",
    "n_boxes = len(d['level'])\n",
    "print(n_boxes)\n",
    "# for i in range(n_boxes):\n",
    "#     (x, y, w, h) = (d['left'][i], d['top'][i], d['width'][i], d['height'][i])\n",
    "#     cv2.rectangle(img, (x, y), (x + w, y + h), (0, 255, 0), 2)\n",
    "cv2.imwrite('box.jpeg',img)\n",
    "# cv2.imshow('img', img)\n",
    "# cv2.waitKey(0)"
   ]
  },
  {
   "cell_type": "code",
   "execution_count": 39,
   "metadata": {},
   "outputs": [
    {
     "name": "stdout",
     "output_type": "stream",
     "text": [
      "dict_keys(['level', 'page_num', 'block_num', 'par_num', 'line_num', 'word_num', 'left', 'top', 'width', 'height', 'conf', 'text'])\n"
     ]
    },
    {
     "data": {
      "text/plain": [
       "-1"
      ]
     },
     "execution_count": 39,
     "metadata": {},
     "output_type": "execute_result"
    }
   ],
   "source": [
    "text = pytesseract.image_to_string(img, lang = 'eng')\n",
    "\n",
    "d = pytesseract.image_to_data(img, output_type=Output.DICT)\n",
    "print(d.keys())\n",
    "n_boxes = len(d['conf'])\n",
    "for i in range(n_boxes):\n",
    "#     if int(d['conf'][i]) > 60:\n",
    "    (x, y, w, h) = (d['left'][i], d['top'][i], d['width'][i], d['height'][i])\n",
    "    img = cv2.rectangle(img, (x, y), (x + w, y + h), (0, 255, 0), 2)\n",
    "#     print(n_boxes)\n",
    "cv2.imwrite('box.jpeg', img)\n",
    "# cv2.waitKey(0)"
   ]
  },
  {
   "cell_type": "code",
   "execution_count": 15,
   "metadata": {},
   "outputs": [
    {
     "name": "stdout",
     "output_type": "stream",
     "text": [
      "dict_keys(['level', 'page_num', 'block_num', 'par_num', 'line_num', 'word_num', 'left', 'top', 'width', 'height', 'conf', 'text']) [0, 1, 1, 1, 1, 1, 1, 1, 1, 2, 2, 2, 2, 3, 3, 3, 3, 3, 3, 3, 3, 3, 4, 4, 4, 4, 4, 5, 5, 5, 5, 5, 5, 5, 5, 5, 5, 5, 6, 6, 6, 6, 7, 7, 7, 7, 8, 8, 8, 8, 8, 8, 8, 8, 8, 8, 8, 8, 8, 8, 8, 8, 9, 9, 9, 9, 9, 9, 9, 9, 9, 9, 9, 9, 10, 10, 10, 10, 10, 10, 11, 11, 11, 11, 12, 12, 12, 12, 12, 13, 13, 13, 13, 13, 13, 13, 13, 13, 13, 13, 13, 14, 14, 14, 14, 14, 14, 14, 14, 14, 14, 14, 14, 14, 14, 14, 14, 15, 15, 15, 15, 15, 15, 15, 15, 15, 15, 15, 15, 15, 15, 16, 16, 16, 16, 16, 17, 17, 17, 17, 18, 18, 18, 18, 19, 19, 19, 19, 19, 19, 19, 19, 20, 20, 20, 20, 20, 20, 20, 20, 20, 20, 20, 20] [0, 0, 0, 0, 1, 0, 1, 2, 3, 0, 0, 0, 1, 0, 0, 0, 1, 0, 1, 2, 0, 1, 0, 0, 0, 1, 2, 0, 0, 0, 1, 2, 0, 1, 2, 3, 4, 5, 0, 0, 0, 1, 0, 0, 0, 1, 0, 0, 0, 1, 2, 3, 4, 5, 6, 7, 8, 9, 10, 11, 12, 13, 0, 0, 0, 1, 2, 0, 1, 2, 3, 4, 5, 6, 0, 0, 0, 1, 0, 1, 0, 0, 0, 1, 0, 0, 0, 1, 2, 0, 0, 0, 1, 2, 0, 1, 0, 1, 2, 3, 4, 0, 0, 0, 1, 2, 3, 4, 5, 6, 7, 8, 9, 10, 0, 1, 2, 0, 0, 0, 1, 2, 0, 1, 0, 1, 0, 1, 0, 1, 2, 0, 0, 0, 1, 2, 0, 0, 0, 1, 0, 0, 0, 1, 0, 0, 0, 1, 2, 0, 1, 2, 0, 0, 0, 1, 2, 3, 4, 0, 1, 2, 3, 4]\n"
     ]
    }
   ],
   "source": [
    "print(d.keys(), d['block_num'], d['word_num'])"
   ]
  },
  {
   "cell_type": "code",
   "execution_count": null,
   "metadata": {},
   "outputs": [],
   "source": [
    "text = text.replace('\\n', ' ')\n",
    "print(text)"
   ]
  },
  {
   "cell_type": "code",
   "execution_count": null,
   "metadata": {},
   "outputs": [],
   "source": [
    "language = 'en'\n",
    "output = gTTS(text= text, lang=language)\n",
    "output.save('outp.mp3')"
   ]
  }
 ],
 "metadata": {
  "kernelspec": {
   "display_name": "Python 3",
   "language": "python",
   "name": "python3"
  },
  "language_info": {
   "codemirror_mode": {
    "name": "ipython",
    "version": 3
   },
   "file_extension": ".py",
   "mimetype": "text/x-python",
   "name": "python",
   "nbconvert_exporter": "python",
   "pygments_lexer": "ipython3",
   "version": "3.6.2"
  }
 },
 "nbformat": 4,
 "nbformat_minor": 4
}
