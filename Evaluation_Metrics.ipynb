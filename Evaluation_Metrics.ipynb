{
  "nbformat": 4,
  "nbformat_minor": 0,
  "metadata": {
    "colab": {
      "name": "Evaluation Metrics.ipynb",
      "provenance": []
    },
    "kernelspec": {
      "name": "python3",
      "display_name": "Python 3"
    },
    "language_info": {
      "name": "python"
    }
  },
  "cells": [
    {
      "cell_type": "code",
      "metadata": {
        "id": "jCQgrFSHOV_w"
      },
      "source": [
        "from math import log10, sqrt\n",
        "import cv2\n",
        "import numpy as np"
      ],
      "execution_count": 1,
      "outputs": []
    },
    {
      "cell_type": "code",
      "metadata": {
        "id": "_rL2ln2EPB0s"
      },
      "source": [
        "from google.colab import drive"
      ],
      "execution_count": 2,
      "outputs": []
    },
    {
      "cell_type": "code",
      "metadata": {
        "colab": {
          "base_uri": "https://localhost:8080/"
        },
        "id": "2S-yaU3tPTEG",
        "outputId": "efd64be5-be70-455f-f3de-89864436a0ae"
      },
      "source": [
        "%cd drive/MyDrive/Project\\ -\\ Audiobook/"
      ],
      "execution_count": 3,
      "outputs": [
        {
          "output_type": "stream",
          "text": [
            "/content/drive/MyDrive/Project - Audiobook\n"
          ],
          "name": "stdout"
        }
      ]
    },
    {
      "cell_type": "markdown",
      "metadata": {
        "id": "Gn1Mu5LckrBb"
      },
      "source": [
        "**PSNR (Peak Signal To Noise Ratio)**"
      ]
    },
    {
      "cell_type": "code",
      "metadata": {
        "id": "2hGqd1nwO6Vo"
      },
      "source": [
        "def PSNR(original, compressed):\n",
        "    mse = np.mean((original - compressed) ** 2)\n",
        "    if(mse == 0):  # MSE is zero means no noise is present in the signal .\n",
        "                  # Therefore PSNR have no importance.\n",
        "        return 100\n",
        "    max_pixel = 255.0\n",
        "    psnr = 20 * log10(max_pixel / sqrt(mse))\n",
        "    return psnr"
      ],
      "execution_count": 33,
      "outputs": []
    },
    {
      "cell_type": "code",
      "metadata": {
        "colab": {
          "base_uri": "https://localhost:8080/"
        },
        "id": "nimIP7FLPzGh",
        "outputId": "7af15f0e-ecb7-4dfe-db30-61b01432154f"
      },
      "source": [
        "original = cv2.imread('./user-upload/aug_12-shakkthi_7-converted/0-aug_12-shakkthi_7-converted.jpeg')\n",
        "compressed_adapt = cv2.imread('./cleaned-images/aug_12-shakkthi_7-converted/adapt-0-aug_12-shakkthi_7-converted.jpeg', 1)\n",
        "PSNR_value_adapt = PSNR(original, compressed_adapt)\n",
        "print(f\"PSNR value for adaptive thresholding is {PSNR_value_adapt} dB\")"
      ],
      "execution_count": 40,
      "outputs": [
        {
          "output_type": "stream",
          "text": [
            "PSNR value for adaptive thresholding is 31.809817468525765 dB\n"
          ],
          "name": "stdout"
        }
      ]
    },
    {
      "cell_type": "code",
      "metadata": {
        "colab": {
          "base_uri": "https://localhost:8080/"
        },
        "id": "2R-XFUiIQ3w9",
        "outputId": "3efa1116-1b8e-4aa8-9fe1-1c75da8291d0"
      },
      "source": [
        "original = cv2.imread('./user-upload/aug_12-shakkthi_7-converted/0-aug_12-shakkthi_7-converted.jpeg')\n",
        "compressed_median = cv2.imread('./cleaned-images/aug_12-shakkthi_7-converted/med-0-aug_12-shakkthi_7-converted.jpeg')\n",
        "print(compressed_median.shape, original.shape)\n",
        "PSNR_value_median = PSNR(original, compressed_median)\n",
        "print(f\"PSNR value for median filtering is {PSNR_value_median} dB\")"
      ],
      "execution_count": 41,
      "outputs": [
        {
          "output_type": "stream",
          "text": [
            "(1653, 2339, 3) (1653, 2339, 3)\n",
            "PSNR value for median filtering is 31.811116369199333 dB\n"
          ],
          "name": "stdout"
        }
      ]
    },
    {
      "cell_type": "code",
      "metadata": {
        "colab": {
          "base_uri": "https://localhost:8080/"
        },
        "id": "sRRzhN0reNQb",
        "outputId": "2c8bfe9d-5e3a-4211-f73b-8b9242eca97d"
      },
      "source": [
        "original = cv2.imread('./user-upload/aug_12-shakkthi_7-converted/0-aug_12-shakkthi_7-converted.jpeg')\n",
        "compressed_autoencoder = cv2.imread('./cleaned-images/aug_12-shakkthi_7-converted/auto-0-aug_12-shakkthi_7-converted.jpeg')\n",
        "original = np.asarray(original, dtype=\"float32\")\n",
        "original = cv2.resize(original, (540, 420))\n",
        "original = original.reshape(420,540,3)\n",
        "print(compressed_autoencoder.shape, original.shape)\n",
        "PSNR_value_autoencoder = PSNR(original, compressed_autoencoder)\n",
        "print(f\"PSNR value for autoencoder is {PSNR_value_autoencoder} dB\")"
      ],
      "execution_count": 42,
      "outputs": [
        {
          "output_type": "stream",
          "text": [
            "(420, 540, 3) (420, 540, 3)\n",
            "PSNR value for autoencoder is 14.653431471630256 dB\n"
          ],
          "name": "stdout"
        }
      ]
    },
    {
      "cell_type": "markdown",
      "metadata": {
        "id": "FRX8SWsVkzKD"
      },
      "source": [
        "**MSE (Mean Squared Error)**"
      ]
    },
    {
      "cell_type": "code",
      "metadata": {
        "colab": {
          "base_uri": "https://localhost:8080/"
        },
        "id": "XAgXXhQleWdU",
        "outputId": "64fa4658-4ece-4f99-f4bf-52d0b2c5ff30"
      },
      "source": [
        "original = cv2.imread('./user-upload/aug_12-shakkthi_7-converted/0-aug_12-shakkthi_7-converted.jpeg')\n",
        "compressed_adapt = cv2.imread('./cleaned-images/aug_12-shakkthi_7-converted/adapt-0-aug_12-shakkthi_7-converted.jpeg', 1)\n",
        "MSE_value_adapt = np.square(np.subtract(original,compressed_adapt)).mean()\n",
        "print(\"MSE for adaptive thresholding is: \", MSE_value_adapt)"
      ],
      "execution_count": 45,
      "outputs": [
        {
          "output_type": "stream",
          "text": [
            "MSE for adaptive thresholding is:  42.86458407423127\n"
          ],
          "name": "stdout"
        }
      ]
    },
    {
      "cell_type": "code",
      "metadata": {
        "colab": {
          "base_uri": "https://localhost:8080/"
        },
        "id": "L909AWPblvQg",
        "outputId": "ffb6f84d-10a5-4f1e-92b1-efa03362a211"
      },
      "source": [
        "original = cv2.imread('./user-upload/aug_12-shakkthi_7-converted/0-aug_12-shakkthi_7-converted.jpeg')\n",
        "compressed_median = cv2.imread('./cleaned-images/aug_12-shakkthi_7-converted/med-0-aug_12-shakkthi_7-converted.jpeg', 1)\n",
        "MSE_value_median = np.square(np.subtract(original,compressed_median)).mean()\n",
        "print(\"MSE for median filtering is: \", MSE_value_median)"
      ],
      "execution_count": 47,
      "outputs": [
        {
          "output_type": "stream",
          "text": [
            "MSE for median filtering is:  42.851765925652344\n"
          ],
          "name": "stdout"
        }
      ]
    },
    {
      "cell_type": "code",
      "metadata": {
        "colab": {
          "base_uri": "https://localhost:8080/"
        },
        "id": "knaHFSFZmAjS",
        "outputId": "eed73794-e2b2-4b39-8145-279d45fb1705"
      },
      "source": [
        "original = cv2.imread('./user-upload/aug_12-shakkthi_7-converted/0-aug_12-shakkthi_7-converted.jpeg')\n",
        "compressed_autoencoder = cv2.imread('./cleaned-images/aug_12-shakkthi_7-converted/auto-0-aug_12-shakkthi_7-converted.jpeg')\n",
        "original = np.asarray(original, dtype=\"float32\")\n",
        "original = cv2.resize(original, (540, 420))\n",
        "original = original.reshape(420,540,3)\n",
        "print(compressed_autoencoder.shape, original.shape)\n",
        "MSE_value_autoencoder = np.square(np.subtract(original,compressed_autoencoder)).mean()\n",
        "print(\"MSE for autoencoder is: \", MSE_value_autoencoder)"
      ],
      "execution_count": 48,
      "outputs": [
        {
          "output_type": "stream",
          "text": [
            "(420, 540, 3) (420, 540, 3)\n",
            "MSE for autoencoder is:  2227.0872\n"
          ],
          "name": "stdout"
        }
      ]
    },
    {
      "cell_type": "code",
      "metadata": {
        "id": "9nRGBJwymSLt"
      },
      "source": [
        ""
      ],
      "execution_count": null,
      "outputs": []
    }
  ]
}