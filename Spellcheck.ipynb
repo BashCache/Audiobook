{
  "nbformat": 4,
  "nbformat_minor": 0,
  "metadata": {
    "colab": {
      "name": "Spellcheck.ipynb",
      "provenance": [],
      "collapsed_sections": []
    },
    "kernelspec": {
      "name": "python3",
      "display_name": "Python 3"
    },
    "language_info": {
      "name": "python"
    }
  },
  "cells": [
    {
      "cell_type": "code",
      "metadata": {
        "colab": {
          "base_uri": "https://localhost:8080/"
        },
        "id": "pKGCmsU8cK0J",
        "outputId": "b90fd9e8-9b87-4078-b076-dabb53aa2601"
      },
      "source": [
        "# importing preliminaries\n",
        "%pylab inline\n",
        "import re\n",
        "import math\n",
        "import string\n",
        "from collections import Counter\n",
        "from __future__ import division"
      ],
      "execution_count": 1,
      "outputs": [
        {
          "output_type": "stream",
          "text": [
            "Populating the interactive namespace from numpy and matplotlib\n"
          ],
          "name": "stdout"
        }
      ]
    },
    {
      "cell_type": "code",
      "metadata": {
        "id": "Inm2w69OcNFI"
      },
      "source": [
        "from google.colab import drive"
      ],
      "execution_count": 2,
      "outputs": []
    },
    {
      "cell_type": "code",
      "metadata": {
        "colab": {
          "base_uri": "https://localhost:8080/"
        },
        "id": "YrD1OFJrcQ0Z",
        "outputId": "8ac50db5-73f2-40e8-b45c-67703aeb6db9"
      },
      "source": [
        "import nltk\n",
        "nltk.download('gutenberg')"
      ],
      "execution_count": 3,
      "outputs": [
        {
          "output_type": "stream",
          "text": [
            "[nltk_data] Downloading package gutenberg to /root/nltk_data...\n",
            "[nltk_data]   Unzipping corpora/gutenberg.zip.\n"
          ],
          "name": "stdout"
        },
        {
          "output_type": "execute_result",
          "data": {
            "text/plain": [
              "True"
            ]
          },
          "metadata": {
            "tags": []
          },
          "execution_count": 3
        }
      ]
    },
    {
      "cell_type": "code",
      "metadata": {
        "colab": {
          "base_uri": "https://localhost:8080/"
        },
        "id": "cDPB-GPJcUT3",
        "outputId": "5a2ad536-aa2c-4464-8fbe-4ff255fc05a1"
      },
      "source": [
        "!pwd"
      ],
      "execution_count": 4,
      "outputs": [
        {
          "output_type": "stream",
          "text": [
            "/content\n"
          ],
          "name": "stdout"
        }
      ]
    },
    {
      "cell_type": "code",
      "metadata": {
        "colab": {
          "base_uri": "https://localhost:8080/"
        },
        "id": "ffV6e0V5dYdh",
        "outputId": "2002fb8a-ae57-47a3-abb2-e980cc4a20d9"
      },
      "source": [
        "%cd drive/MyDrive/gutenberg/"
      ],
      "execution_count": 5,
      "outputs": [
        {
          "output_type": "stream",
          "text": [
            "/content/drive/MyDrive/gutenberg\n"
          ],
          "name": "stdout"
        }
      ]
    },
    {
      "cell_type": "code",
      "metadata": {
        "colab": {
          "base_uri": "https://localhost:8080/"
        },
        "id": "Ov8vqVehercJ",
        "outputId": "287d0979-d44b-4dc7-d179-290e93f5d10c"
      },
      "source": [
        "!pwd"
      ],
      "execution_count": 6,
      "outputs": [
        {
          "output_type": "stream",
          "text": [
            "/content/drive/MyDrive/gutenberg\n"
          ],
          "name": "stdout"
        }
      ]
    },
    {
      "cell_type": "code",
      "metadata": {
        "colab": {
          "base_uri": "https://localhost:8080/"
        },
        "id": "mS_T18-qesdq",
        "outputId": "640e0a20-43b6-46b2-f312-d787d42f765b"
      },
      "source": [
        "TEXT = open('austen-emma.txt').read()\n",
        "TEXT += open('shakespeare-hamlet.txt').read()\n",
        "TEXT += open('austen-persuasion.txt').read()\n",
        "TEXT += open('austen-sense.txt').read()\n",
        "len(TEXT), type(TEXT)"
      ],
      "execution_count": 7,
      "outputs": [
        {
          "output_type": "execute_result",
          "data": {
            "text/plain": [
              "(2189279, str)"
            ]
          },
          "metadata": {
            "tags": []
          },
          "execution_count": 7
        }
      ]
    },
    {
      "cell_type": "code",
      "metadata": {
        "id": "giU-eexKe04g"
      },
      "source": [
        "def tokens(text):\n",
        "    \"List all the word tokens (consecutive letters) in a text. Normalize to lowercase.\"\n",
        "    return re.findall('[a-z]+', text.lower())"
      ],
      "execution_count": 8,
      "outputs": []
    },
    {
      "cell_type": "code",
      "metadata": {
        "colab": {
          "base_uri": "https://localhost:8080/"
        },
        "id": "p9cO7AO6e6bV",
        "outputId": "4e88eb88-e42f-42ad-952f-8523e2383e01"
      },
      "source": [
        "tokens('Hey, I am working with NLTK..!')"
      ],
      "execution_count": 11,
      "outputs": [
        {
          "output_type": "execute_result",
          "data": {
            "text/plain": [
              "['hey', 'i', 'am', 'working', 'with', 'nltk']"
            ]
          },
          "metadata": {
            "tags": []
          },
          "execution_count": 11
        }
      ]
    },
    {
      "cell_type": "code",
      "metadata": {
        "colab": {
          "base_uri": "https://localhost:8080/"
        },
        "id": "qqFVbatre82k",
        "outputId": "0bb970db-e731-42b3-f353-aafbe77f50e6"
      },
      "source": [
        "WORDS = tokens(TEXT)\n",
        "# WORDS.append('mathematics')\n",
        "len(WORDS), type(WORDS)"
      ],
      "execution_count": 12,
      "outputs": [
        {
          "output_type": "execute_result",
          "data": {
            "text/plain": [
              "(397099, list)"
            ]
          },
          "metadata": {
            "tags": []
          },
          "execution_count": 12
        }
      ]
    },
    {
      "cell_type": "code",
      "metadata": {
        "colab": {
          "base_uri": "https://localhost:8080/"
        },
        "id": "ityJ4EcAfASa",
        "outputId": "99f961e6-8879-47b0-f6c5-2fc3f7c2dac0"
      },
      "source": [
        "print(WORDS[:10])"
      ],
      "execution_count": 13,
      "outputs": [
        {
          "output_type": "stream",
          "text": [
            "['emma', 'by', 'jane', 'austen', 'volume', 'i', 'chapter', 'i', 'emma', 'woodhouse']\n"
          ],
          "name": "stdout"
        }
      ]
    },
    {
      "cell_type": "code",
      "metadata": {
        "id": "QNLehg5lfH34"
      },
      "source": [
        "def sample(bag, n=10):\n",
        "    \"Sample a random n-word sentence from the model described by the bag of words.\"\n",
        "    return ' '.join(random.choice(bag) for _ in range(n))"
      ],
      "execution_count": 14,
      "outputs": []
    },
    {
      "cell_type": "code",
      "metadata": {
        "colab": {
          "base_uri": "https://localhost:8080/",
          "height": 35
        },
        "id": "dpIdpDIffLwd",
        "outputId": "84045441-566e-421b-de32-a6c4da71a765"
      },
      "source": [
        "sample(WORDS)"
      ],
      "execution_count": 15,
      "outputs": [
        {
          "output_type": "execute_result",
          "data": {
            "application/vnd.google.colaboratory.intrinsic+json": {
              "type": "string"
            },
            "text/plain": [
              "'simple d make tear dignity of and king all you'"
            ]
          },
          "metadata": {
            "tags": []
          },
          "execution_count": 15
        }
      ]
    },
    {
      "cell_type": "code",
      "metadata": {
        "colab": {
          "base_uri": "https://localhost:8080/"
        },
        "id": "EcSPsXHJfNmV",
        "outputId": "3e2b94d4-b385-4adc-d8ec-1c4633b29b67"
      },
      "source": [
        "Counter(tokens('Hey, this is the third exercise'))"
      ],
      "execution_count": 16,
      "outputs": [
        {
          "output_type": "execute_result",
          "data": {
            "text/plain": [
              "Counter({'exercise': 1, 'hey': 1, 'is': 1, 'the': 1, 'third': 1, 'this': 1})"
            ]
          },
          "metadata": {
            "tags": []
          },
          "execution_count": 16
        }
      ]
    },
    {
      "cell_type": "code",
      "metadata": {
        "colab": {
          "base_uri": "https://localhost:8080/"
        },
        "id": "XV6zsWZAfRE2",
        "outputId": "b665d050-ae8c-4f63-f913-423b736600c6"
      },
      "source": [
        "COUNTS = Counter(WORDS)\n",
        "\n",
        "print (COUNTS.most_common(10))"
      ],
      "execution_count": 17,
      "outputs": [
        {
          "output_type": "stream",
          "text": [
            "[('the', 13631), ('to', 12851), ('and', 12052), ('of', 11045), ('a', 7328), ('i', 6894), ('her', 6340), ('in', 5956), ('it', 5743), ('was', 5682)]\n"
          ],
          "name": "stdout"
        }
      ]
    },
    {
      "cell_type": "code",
      "metadata": {
        "colab": {
          "base_uri": "https://localhost:8080/"
        },
        "id": "IO1xZmWefU8X",
        "outputId": "ff3479c7-3ea4-433e-f299-c0e89b4aa9b8"
      },
      "source": [
        "for w in tokens('pound is widely expected to take another sharp drive don done'):\n",
        "    print (COUNTS[w], w)"
      ],
      "execution_count": 18,
      "outputs": [
        {
          "output_type": "stream",
          "text": [
            "1 pound\n",
            "2729 is\n",
            "2 widely\n",
            "97 expected\n",
            "12851 to\n",
            "247 take\n",
            "267 another\n",
            "7 sharp\n",
            "23 drive\n",
            "46 don\n",
            "310 done\n"
          ],
          "name": "stdout"
        }
      ]
    },
    {
      "cell_type": "code",
      "metadata": {
        "colab": {
          "base_uri": "https://localhost:8080/",
          "height": 285
        },
        "id": "aBmbKGywfY8q",
        "outputId": "a0a70afa-9620-4846-e974-e64d1e778c62"
      },
      "source": [
        "M = COUNTS['is']\n",
        "yscale('log'); xscale('log'); title('Frequency of n-th most frequent word and 1/n line.')\n",
        "plot([c for (w, c) in COUNTS.most_common()])\n",
        "plot([M/i for i in range(1, len(COUNTS)+1)]);"
      ],
      "execution_count": 19,
      "outputs": [
        {
          "output_type": "display_data",
          "data": {
            "image/png": "[encoded data removed]",
            "text/plain": [
              "<Figure size 432x288 with 1 Axes>"
            ]
          },
          "metadata": {
            "tags": [],
            "needs_background": "light"
          }
        }
      ]
    },
    {
      "cell_type": "code",
      "metadata": {
        "id": "HpaSmwxwfdex"
      },
      "source": [
        "def correct(word):\n",
        "    \"Find the best spelling correction for this word.\"\n",
        "    # Prefer edit distance 0, then 1, then 2; otherwise default to word itself.\n",
        "    candidates = (known(edits0(word)) or \n",
        "                  known(edits1(word)) or \n",
        "                  known(edits2(word)) or\n",
        "                  [word])\n",
        "    print(type(candidates),candidates, COUNTS.get )\n",
        "    return max(candidates, key=COUNTS.get)"
      ],
      "execution_count": 47,
      "outputs": []
    },
    {
      "cell_type": "code",
      "metadata": {
        "id": "5tLBo-G1fhEC"
      },
      "source": [
        "def known(words):\n",
        "    \"Return the subset of words that are actually in the dictionary.\"\n",
        "    return {w for w in words if w in COUNTS}\n",
        "\n",
        "def edits0(word): \n",
        "    \"Return all strings that are zero edits away from word (i.e., just word itself).\"\n",
        "    return {word}\n",
        "\n",
        "def edits2(word):\n",
        "    \"Return all strings that are two edits away from this word.\"\n",
        "    return {e2 for e1 in edits1(word) for e2 in edits1(e1)}"
      ],
      "execution_count": 48,
      "outputs": []
    },
    {
      "cell_type": "code",
      "metadata": {
        "id": "6rtEX4mIfmFW"
      },
      "source": [
        "def edits1(word):\n",
        "    \"Return all strings that are one edit away from this word.\"\n",
        "    pairs      = splits(word)\n",
        "    deletes    = [a+b[1:]           for (a, b) in pairs if b]\n",
        "    transposes = [a+b[1]+b[0]+b[2:] for (a, b) in pairs if len(b) > 1]\n",
        "    replaces   = [a+c+b[1:]         for (a, b) in pairs for c in alphabet if b]\n",
        "    inserts    = [a+c+b             for (a, b) in pairs for c in alphabet]\n",
        "    return set(deletes + transposes + replaces + inserts)\n",
        "\n",
        "def splits(word):\n",
        "    \"Return a list of all possible (first, rest) pairs that comprise word.\"\n",
        "    return [(word[:i], word[i:]) \n",
        "            for i in range(len(word)+1)]\n",
        "\n",
        "alphabet = 'abcdefghijklmnopqrstuvwxyz'"
      ],
      "execution_count": 49,
      "outputs": []
    },
    {
      "cell_type": "code",
      "metadata": {
        "colab": {
          "base_uri": "https://localhost:8080/"
        },
        "id": "cCNuWOYVfovR",
        "outputId": "b8acc09d-3b7c-4dfa-b36a-eda8afe36244"
      },
      "source": [
        "splits('speech')"
      ],
      "execution_count": 82,
      "outputs": [
        {
          "output_type": "execute_result",
          "data": {
            "text/plain": [
              "[('', 'speech'),\n",
              " ('s', 'peech'),\n",
              " ('sp', 'eech'),\n",
              " ('spe', 'ech'),\n",
              " ('spee', 'ch'),\n",
              " ('speec', 'h'),\n",
              " ('speech', '')]"
            ]
          },
          "metadata": {
            "tags": []
          },
          "execution_count": 82
        }
      ]
    },
    {
      "cell_type": "code",
      "metadata": {
        "colab": {
          "base_uri": "https://localhost:8080/"
        },
        "id": "26LtnYF5frD5",
        "outputId": "f0f25888-26a9-4a15-faee-1a39d545f7ef"
      },
      "source": [
        "print (edits0('speech'))"
      ],
      "execution_count": 51,
      "outputs": [
        {
          "output_type": "stream",
          "text": [
            "{'speech'}\n"
          ],
          "name": "stdout"
        }
      ]
    },
    {
      "cell_type": "code",
      "metadata": {
        "colab": {
          "base_uri": "https://localhost:8080/"
        },
        "id": "95txCScLfvYt",
        "outputId": "08ee1456-a651-42b7-9cee-1ab45bc6d0fe"
      },
      "source": [
        "ans = known((edits1('yo')))\n",
        "# print(ans, COUNTS['the'])\n",
        "print(ans)\n",
        "# print(max(ans, key=COUNTS.get))\n",
        "# print(\"mathematics\" in ans)"
      ],
      "execution_count": 84,
      "outputs": [
        {
          "output_type": "stream",
          "text": [
            "{'so', 'yon', 'no', 'go', 'ye', 'co', 'o', 'you', 'y', 'ho', 'do', 'to', 'ro'}\n"
          ],
          "name": "stdout"
        }
      ]
    },
    {
      "cell_type": "code",
      "metadata": {
        "colab": {
          "base_uri": "https://localhost:8080/"
        },
        "id": "wKE5ii3PgPxh",
        "outputId": "bab0ffc8-01c7-4215-fe46-cc5a97ba1a47"
      },
      "source": [
        "print(known(('mathematics')))\n",
        "print(COUNTS['mathematics'])"
      ],
      "execution_count": 63,
      "outputs": [
        {
          "output_type": "stream",
          "text": [
            "set()\n",
            "1\n"
          ],
          "name": "stdout"
        }
      ]
    },
    {
      "cell_type": "code",
      "metadata": {
        "colab": {
          "base_uri": "https://localhost:8080/"
        },
        "id": "zuQxLZpwfxKr",
        "outputId": "00e89396-4c0a-4144-c7d2-54e7525f9546"
      },
      "source": [
        "print (len(edits2('speech')))"
      ],
      "execution_count": 53,
      "outputs": [
        {
          "output_type": "stream",
          "text": [
            "51013\n"
          ],
          "name": "stdout"
        }
      ]
    },
    {
      "cell_type": "code",
      "metadata": {
        "colab": {
          "base_uri": "https://localhost:8080/"
        },
        "id": "K2UF9tZFf2Qe",
        "outputId": "e66d8e28-80fd-4f14-c27c-d2458e0a1e56"
      },
      "source": [
        "map(correct, tokens('speech eis not good'))"
      ],
      "execution_count": 54,
      "outputs": [
        {
          "output_type": "execute_result",
          "data": {
            "text/plain": [
              "<map at 0x7fc6836ce7d0>"
            ]
          },
          "metadata": {
            "tags": []
          },
          "execution_count": 54
        }
      ]
    },
    {
      "cell_type": "code",
      "metadata": {
        "id": "GxVsZ_EKf7mH"
      },
      "source": [
        "def correct_text(text):\n",
        "    \"Correct all the words within a text, returning the corrected text.\"\n",
        "    return re.sub('[a-zA-Z]+', correct_match, text)\n",
        "\n",
        "def correct_match(match):\n",
        "    \"Spell-correct word in match, and preserve proper upper/lower/title case.\"\n",
        "    word = match.group()\n",
        "    return case_of(word)(correct(word.lower()))\n",
        "\n",
        "def case_of(text):\n",
        "    \"Return the case-function appropriate for text: upper, lower, title, or just str.\"\n",
        "    return (str.upper if text.isupper() else\n",
        "            str.lower if text.islower() else\n",
        "            str.title if text.istitle() else\n",
        "            str)"
      ],
      "execution_count": 55,
      "outputs": []
    },
    {
      "cell_type": "code",
      "metadata": {
        "colab": {
          "base_uri": "https://localhost:8080/"
        },
        "id": "BjmUn_wjf-po",
        "outputId": "3f23dd1d-95de-4659-e57d-bc41a76ede7b"
      },
      "source": [
        "map(case_of, ['UPPER', 'lower', 'Title', 'CamelCase'])"
      ],
      "execution_count": 56,
      "outputs": [
        {
          "output_type": "execute_result",
          "data": {
            "text/plain": [
              "<map at 0x7fc6836ea9d0>"
            ]
          },
          "metadata": {
            "tags": []
          },
          "execution_count": 56
        }
      ]
    },
    {
      "cell_type": "code",
      "metadata": {
        "colab": {
          "base_uri": "https://localhost:8080/",
          "height": 105
        },
        "id": "epAe8tGVgA83",
        "outputId": "a5fcaeb0-43fb-4a0d-cfb6-6fa724604cf5"
      },
      "source": [
        "correct_text('spech is noot goad')"
      ],
      "execution_count": 58,
      "outputs": [
        {
          "output_type": "stream",
          "text": [
            "<class 'set'> {'speech', 'speck'} <built-in method get of Counter object at 0x7fc6855a2770>\n",
            "<class 'set'> {'is'} <built-in method get of Counter object at 0x7fc6855a2770>\n",
            "<class 'set'> {'noon', 'foot', 'not', 'root', 'boot'} <built-in method get of Counter object at 0x7fc6855a2770>\n",
            "<class 'set'> {'god', 'road', 'glad', 'load', 'good', 'gold', 'gad'} <built-in method get of Counter object at 0x7fc6855a2770>\n"
          ],
          "name": "stdout"
        },
        {
          "output_type": "execute_result",
          "data": {
            "application/vnd.google.colaboratory.intrinsic+json": {
              "type": "string"
            },
            "text/plain": [
              "'speech is not good'"
            ]
          },
          "metadata": {
            "tags": []
          },
          "execution_count": 58
        }
      ]
    },
    {
      "cell_type": "code",
      "metadata": {
        "colab": {
          "base_uri": "https://localhost:8080/",
          "height": 139
        },
        "id": "0y3PPajngD1K",
        "outputId": "bccd23fd-0819-4db1-93e2-08dff170e4a1"
      },
      "source": [
        "correct_text('havee yoi donee thaat projecct mathematics')"
      ],
      "execution_count": 44,
      "outputs": [
        {
          "output_type": "stream",
          "text": [
            "{'have'} <built-in method get of Counter object at 0x7fc6855a2770>\n",
            "{'you', 'yon'} <built-in method get of Counter object at 0x7fc6855a2770>\n",
            "{'done'} <built-in method get of Counter object at 0x7fc6855a2770>\n",
            "{'that'} <built-in method get of Counter object at 0x7fc6855a2770>\n",
            "{'project'} <built-in method get of Counter object at 0x7fc6855a2770>\n",
            "{'mathematics'} <built-in method get of Counter object at 0x7fc6855a2770>\n"
          ],
          "name": "stdout"
        },
        {
          "output_type": "execute_result",
          "data": {
            "application/vnd.google.colaboratory.intrinsic+json": {
              "type": "string"
            },
            "text/plain": [
              "'have you done that project mathematics'"
            ]
          },
          "metadata": {
            "tags": []
          },
          "execution_count": 44
        }
      ]
    },
    {
      "cell_type": "code",
      "metadata": {
        "colab": {
          "base_uri": "https://localhost:8080/",
          "height": 174
        },
        "id": "1h2EastbgGRG",
        "outputId": "a467f1a0-c30f-4b05-899f-070fc88bff64"
      },
      "source": [
        "correct_text('Theree are several classic spatial filters or eliminat')"
      ],
      "execution_count": 130,
      "outputs": [
        {
          "output_type": "stream",
          "text": [
            "{'three', 'there'} <built-in method get of Counter object at 0x7f835b8fe830>\n",
            "{'are'} <built-in method get of Counter object at 0x7f835b8fe830>\n",
            "{'several'} <built-in method get of Counter object at 0x7f835b8fe830>\n",
            "{'classed', 'classing', 'class'} <built-in method get of Counter object at 0x7f835b8fe830>\n",
            "{'partial'} <built-in method get of Counter object at 0x7f835b8fe830>\n",
            "{'sitters', 'sisters'} <built-in method get of Counter object at 0x7f835b8fe830>\n",
            "{'or'} <built-in method get of Counter object at 0x7f835b8fe830>\n",
            "['eliminat'] <built-in method get of Counter object at 0x7f835b8fe830>\n"
          ],
          "name": "stdout"
        },
        {
          "output_type": "execute_result",
          "data": {
            "application/vnd.google.colaboratory.intrinsic+json": {
              "type": "string"
            },
            "text/plain": [
              "'There are several class partial sisters or eliminat'"
            ]
          },
          "metadata": {
            "tags": []
          },
          "execution_count": 130
        }
      ]
    },
    {
      "cell_type": "code",
      "metadata": {
        "id": "rJYIa1p0sK8Q"
      },
      "source": [
        ""
      ],
      "execution_count": null,
      "outputs": []
    },
    {
      "cell_type": "markdown",
      "metadata": {
        "id": "x_MaK9-qsMHu"
      },
      "source": [
        "**BERT MODEL FOR CONTEXTUAL GRAMMAR CORRECTION**"
      ]
    },
    {
      "cell_type": "code",
      "metadata": {
        "colab": {
          "base_uri": "https://localhost:8080/"
        },
        "id": "gxCant9pl8Zm",
        "outputId": "5c1debc5-fc51-4483-f8b2-64ab8ed6a5ee"
      },
      "source": [
        "!pip install bert-tensorflow\n",
        "!pip install transformers"
      ],
      "execution_count": 3,
      "outputs": [
        {
          "output_type": "stream",
          "text": [
            "Requirement already satisfied: bert-tensorflow in /usr/local/lib/python3.7/dist-packages (1.0.4)\n",
            "Requirement already satisfied: six in /usr/local/lib/python3.7/dist-packages (from bert-tensorflow) (1.15.0)\n",
            "Requirement already satisfied: transformers in /usr/local/lib/python3.7/dist-packages (4.5.0)\n",
            "Requirement already satisfied: numpy>=1.17 in /usr/local/lib/python3.7/dist-packages (from transformers) (1.19.5)\n",
            "Requirement already satisfied: importlib-metadata; python_version < \"3.8\" in /usr/local/lib/python3.7/dist-packages (from transformers) (3.8.1)\n",
            "Requirement already satisfied: filelock in /usr/local/lib/python3.7/dist-packages (from transformers) (3.0.12)\n",
            "Requirement already satisfied: packaging in /usr/local/lib/python3.7/dist-packages (from transformers) (20.9)\n",
            "Requirement already satisfied: tqdm>=4.27 in /usr/local/lib/python3.7/dist-packages (from transformers) (4.41.1)\n",
            "Requirement already satisfied: tokenizers<0.11,>=0.10.1 in /usr/local/lib/python3.7/dist-packages (from transformers) (0.10.2)\n",
            "Requirement already satisfied: regex!=2019.12.17 in /usr/local/lib/python3.7/dist-packages (from transformers) (2019.12.20)\n",
            "Requirement already satisfied: requests in /usr/local/lib/python3.7/dist-packages (from transformers) (2.23.0)\n",
            "Requirement already satisfied: sacremoses in /usr/local/lib/python3.7/dist-packages (from transformers) (0.0.44)\n",
            "Requirement already satisfied: typing-extensions>=3.6.4; python_version < \"3.8\" in /usr/local/lib/python3.7/dist-packages (from importlib-metadata; python_version < \"3.8\"->transformers) (3.7.4.3)\n",
            "Requirement already satisfied: zipp>=0.5 in /usr/local/lib/python3.7/dist-packages (from importlib-metadata; python_version < \"3.8\"->transformers) (3.4.1)\n",
            "Requirement already satisfied: pyparsing>=2.0.2 in /usr/local/lib/python3.7/dist-packages (from packaging->transformers) (2.4.7)\n",
            "Requirement already satisfied: urllib3!=1.25.0,!=1.25.1,<1.26,>=1.21.1 in /usr/local/lib/python3.7/dist-packages (from requests->transformers) (1.24.3)\n",
            "Requirement already satisfied: chardet<4,>=3.0.2 in /usr/local/lib/python3.7/dist-packages (from requests->transformers) (3.0.4)\n",
            "Requirement already satisfied: idna<3,>=2.5 in /usr/local/lib/python3.7/dist-packages (from requests->transformers) (2.10)\n",
            "Requirement already satisfied: certifi>=2017.4.17 in /usr/local/lib/python3.7/dist-packages (from requests->transformers) (2020.12.5)\n",
            "Requirement already satisfied: joblib in /usr/local/lib/python3.7/dist-packages (from sacremoses->transformers) (1.0.1)\n",
            "Requirement already satisfied: six in /usr/local/lib/python3.7/dist-packages (from sacremoses->transformers) (1.15.0)\n",
            "Requirement already satisfied: click in /usr/local/lib/python3.7/dist-packages (from sacremoses->transformers) (7.1.2)\n"
          ],
          "name": "stdout"
        }
      ]
    },
    {
      "cell_type": "code",
      "metadata": {
        "colab": {
          "base_uri": "https://localhost:8080/"
        },
        "id": "lHYjUvexJJIZ",
        "outputId": "a64af103-758f-4e27-e694-64b471545cd2"
      },
      "source": [
        "!apt install enchant\n",
        "!pip install pyenchant "
      ],
      "execution_count": 4,
      "outputs": [
        {
          "output_type": "stream",
          "text": [
            "Reading package lists... Done\n",
            "Building dependency tree       \n",
            "Reading state information... Done\n",
            "enchant is already the newest version (1.6.0-11.1).\n",
            "0 upgraded, 0 newly installed, 0 to remove and 30 not upgraded.\n",
            "Requirement already satisfied: pyenchant in /usr/local/lib/python3.7/dist-packages (3.2.0)\n"
          ],
          "name": "stdout"
        }
      ]
    },
    {
      "cell_type": "code",
      "metadata": {
        "colab": {
          "base_uri": "https://localhost:8080/"
        },
        "id": "aJNEIierKNlb",
        "outputId": "f0a8b3d6-7da3-4968-ace8-0f8636a81a30"
      },
      "source": [
        "!pip install pytesseract"
      ],
      "execution_count": 5,
      "outputs": [
        {
          "output_type": "stream",
          "text": [
            "Requirement already satisfied: pytesseract in /usr/local/lib/python3.7/dist-packages (0.3.7)\n",
            "Requirement already satisfied: Pillow in /usr/local/lib/python3.7/dist-packages (from pytesseract) (7.1.2)\n"
          ],
          "name": "stdout"
        }
      ]
    },
    {
      "cell_type": "code",
      "metadata": {
        "colab": {
          "base_uri": "https://localhost:8080/"
        },
        "id": "61DLsD18H2IE",
        "outputId": "35957687-bb6e-452f-c545-fe8a3edccd9b"
      },
      "source": [
        "# !pip install torch==0.2\n",
        "from PIL import Image\n",
        "from pytesseract import image_to_string\n",
        "import torch\n",
        "from transformers import BertTokenizer, BertForMaskedLM\n",
        "import re\n",
        "import nltk\n",
        "# import pyenchant\n",
        "from enchant.checker import SpellChecker\n",
        "from difflib import SequenceMatcher\n",
        "print(torch.__version__)"
      ],
      "execution_count": 34,
      "outputs": [
        {
          "output_type": "stream",
          "text": [
            "1.8.1+cu101\n"
          ],
          "name": "stdout"
        }
      ]
    },
    {
      "cell_type": "code",
      "metadata": {
        "colab": {
          "base_uri": "https://localhost:8080/"
        },
        "id": "ukY03d8RL1m2",
        "outputId": "2690afc0-1804-4f94-d88c-62083200ec98"
      },
      "source": [
        "nltk.download('punkt')\n",
        "nltk.download('averaged_perceptron_tagger')\n",
        "nltk.download('maxent_ne_chunker')\n",
        "nltk.download('words')"
      ],
      "execution_count": 35,
      "outputs": [
        {
          "output_type": "stream",
          "text": [
            "[nltk_data] Downloading package punkt to /root/nltk_data...\n",
            "[nltk_data]   Package punkt is already up-to-date!\n",
            "[nltk_data] Downloading package averaged_perceptron_tagger to\n",
            "[nltk_data]     /root/nltk_data...\n",
            "[nltk_data]   Package averaged_perceptron_tagger is already up-to-\n",
            "[nltk_data]       date!\n",
            "[nltk_data] Downloading package maxent_ne_chunker to\n",
            "[nltk_data]     /root/nltk_data...\n",
            "[nltk_data]   Package maxent_ne_chunker is already up-to-date!\n",
            "[nltk_data] Downloading package words to /root/nltk_data...\n",
            "[nltk_data]   Package words is already up-to-date!\n"
          ],
          "name": "stdout"
        },
        {
          "output_type": "execute_result",
          "data": {
            "text/plain": [
              "True"
            ]
          },
          "metadata": {
            "tags": []
          },
          "execution_count": 35
        }
      ]
    },
    {
      "cell_type": "code",
      "metadata": {
        "id": "EaTlkfghKVi0"
      },
      "source": [
        "filename = './test.jpg'\n",
        "# text = image_to_string(Image.open(filename))\n",
        "# text_original = str(text)\n",
        "# print (text_original)\n",
        "text = \" Most district reports indicate somewhat stroger regional economic activity on balance in December and early January than at the time of last reports in November, with much of the growth centred at the retail and industrial sectors. It would appeaar, on the basis of these reports, that the national economy gained momentum in recceent weeks as conmer spending strengthened, manufacturing activity conthd to rise, and producers scheduled more investment in plant and equipment.\"\n",
        "text_original = str(text)"
      ],
      "execution_count": 33,
      "outputs": []
    },
    {
      "cell_type": "code",
      "metadata": {
        "colab": {
          "base_uri": "https://localhost:8080/"
        },
        "id": "WS-EPR5JH2Tr",
        "outputId": "6176fb60-f2cc-48d0-d8ca-b8f25e87a94c"
      },
      "source": [
        "# cleanup text\n",
        "rep = { '\\n': ' ', '\\\\': ' ', '\\\"': '\"', '-': ' ', '\"': ' \" ', \n",
        "        '\"': ' \" ', '\"': ' \" ', ',':' , ', '.':' . ', '!':' ! ', \n",
        "        '?':' ? ', \"n't\": \" not\" , \"'ll\": \" will\", '*':' * ', \n",
        "        '(': ' ( ', ')': ' ) ', \"s'\": \"s '\"}\n",
        "rep = dict((re.escape(k), v) for k, v in rep.items()) \n",
        "pattern = re.compile(\"|\".join(rep.keys()))\n",
        "text = pattern.sub(lambda m: rep[re.escape(m.group(0))], text)\n",
        "def get_personslist(text):\n",
        "    personslist=[]\n",
        "    for sent in nltk.sent_tokenize(text):\n",
        "        for chunk in nltk.ne_chunk(nltk.pos_tag(nltk.word_tokenize(sent))):\n",
        "            if isinstance(chunk, nltk.tree.Tree) and chunk.label() == 'PERSON':\n",
        "                personslist.insert(0, (chunk.leaves()[0][0]))\n",
        "    return list(set(personslist))\n",
        "personslist = get_personslist(text)\n",
        "ignorewords = personslist + [\"!\", \",\", \".\", \"\\\"\", \"?\", '(', ')', '*', '\\'']\n",
        "# using enchant.checker.SpellChecker, identify incorrect words\n",
        "d = SpellChecker(\"en_US\")\n",
        "words = text.split()\n",
        "incorrectwords = [w for w in words if not d.check(w) and w not in ignorewords]\n",
        "# using enchant.checker.SpellChecker, get suggested replacements\n",
        "suggestedwords = [d.suggest(w) for w in incorrectwords]\n",
        "# replace incorrect words with [MASK]\n",
        "for w in incorrectwords:\n",
        "    text = text.replace(w, '[MASK]')\n",
        "    text_original = text_original.replace(w, '[MASK]')\n",
        "    \n",
        "print(text)"
      ],
      "execution_count": 36,
      "outputs": [
        {
          "output_type": "stream",
          "text": [
            " Most district reports indicate somewhat [MASK] regional economic activity on balance in December and early January than at the time of last reports in November ,  with much of the growth [MASK] at the retail and industrial sectors .  It would [MASK] ,  on the basis of these reports ,  that the national economy gained momentum in [MASK] weeks as [MASK] spending strengthened ,  manufacturing activity [MASK] to rise ,  and producers scheduled more investment in plant and equipment . \n"
          ],
          "name": "stdout"
        }
      ]
    },
    {
      "cell_type": "code",
      "metadata": {
        "colab": {
          "base_uri": "https://localhost:8080/"
        },
        "id": "ZXaitIpkH8iL",
        "outputId": "46c58368-e33a-4292-b7a6-b0e2886bf428"
      },
      "source": [
        "# Load, train and predict using pre-trained model\n",
        "tokenizer = BertTokenizer.from_pretrained('bert-base-uncased')\n",
        "tokenized_text = tokenizer.tokenize(text)\n",
        "indexed_tokens = tokenizer.convert_tokens_to_ids(tokenized_text)\n",
        "MASKIDS = [i for i, e in enumerate(tokenized_text) if e == '[MASK]']\n",
        "# Create the segments tensors\n",
        "segs = [i for i, e in enumerate(tokenized_text) if e == \".\"]\n",
        "segments_ids=[]\n",
        "prev=-1\n",
        "for k, s in enumerate(segs):\n",
        "    segments_ids = segments_ids + [k] * (s-prev)\n",
        "    prev=s\n",
        "segments_ids = segments_ids + [len(segs)] * (len(tokenized_text) - len(segments_ids))\n",
        "segments_tensors = torch.tensor([segments_ids])\n",
        "# prepare Torch inputs \n",
        "tokens_tensor = torch.tensor([indexed_tokens])\n",
        "# Load pre-trained model\n",
        "model = BertForMaskedLM.from_pretrained('bert-base-uncased')\n",
        "# Predict all tokens\n",
        "with torch.no_grad():\n",
        "    predictions = model(tokens_tensor, segments_tensors)"
      ],
      "execution_count": 37,
      "outputs": [
        {
          "output_type": "stream",
          "text": [
            "Some weights of the model checkpoint at bert-base-uncased were not used when initializing BertForMaskedLM: ['cls.seq_relationship.weight', 'cls.seq_relationship.bias']\n",
            "- This IS expected if you are initializing BertForMaskedLM from the checkpoint of a model trained on another task or with another architecture (e.g. initializing a BertForSequenceClassification model from a BertForPreTraining model).\n",
            "- This IS NOT expected if you are initializing BertForMaskedLM from the checkpoint of a model that you expect to be exactly identical (initializing a BertForSequenceClassification model from a BertForSequenceClassification model).\n"
          ],
          "name": "stderr"
        }
      ]
    },
    {
      "cell_type": "code",
      "metadata": {
        "colab": {
          "base_uri": "https://localhost:8080/"
        },
        "id": "tUfcl7zwrmhD",
        "outputId": "6a68957c-d6d9-4aa2-d097-03cdb79db1d6"
      },
      "source": [
        "print(tokens_tensor)\n",
        "# Segments tensors is based on the sentence it belongs to. 0 represents all those words belong to 0th sentence. This is used for ontext based correction\n",
        "print(segments_tensors)"
      ],
      "execution_count": 38,
      "outputs": [
        {
          "output_type": "stream",
          "text": [
            "tensor([[ 2087,  2212,  4311,  5769,  5399,   103,  3164,  3171,  4023,  2006,\n",
            "          5703,  1999,  2285,  1998,  2220,  2254,  2084,  2012,  1996,  2051,\n",
            "          1997,  2197,  4311,  1999,  2281,  1010,  2007,  2172,  1997,  1996,\n",
            "          3930,   103,  2012,  1996,  7027,  1998,  3919, 11105,  1012,  2009,\n",
            "          2052,   103,  1010,  2006,  1996,  3978,  1997,  2122,  4311,  1010,\n",
            "          2008,  1996,  2120,  4610,  4227, 11071,  1999,   103,  3134,  2004,\n",
            "           103,  5938, 13949,  1010,  5814,  4023,   103,  2000,  4125,  1010,\n",
            "          1998,  6443,  5115,  2062,  5211,  1999,  3269,  1998,  3941,  1012]])\n",
            "tensor([[0, 0, 0, 0, 0, 0, 0, 0, 0, 0, 0, 0, 0, 0, 0, 0, 0, 0, 0, 0, 0, 0, 0, 0,\n",
            "         0, 0, 0, 0, 0, 0, 0, 0, 0, 0, 0, 0, 0, 0, 0, 1, 1, 1, 1, 1, 1, 1, 1, 1,\n",
            "         1, 1, 1, 1, 1, 1, 1, 1, 1, 1, 1, 1, 1, 1, 1, 1, 1, 1, 1, 1, 1, 1, 1, 1,\n",
            "         1, 1, 1, 1, 1, 1, 1, 1]])\n"
          ],
          "name": "stdout"
        }
      ]
    },
    {
      "cell_type": "code",
      "metadata": {
        "colab": {
          "base_uri": "https://localhost:8080/"
        },
        "id": "itYWuV8iSHtD",
        "outputId": "8da10e14-632c-489d-c542-e723d23b9435"
      },
      "source": [
        "import tensorflow as tf\n",
        "print(predictions)\n",
        "print(type(predictions), len(predictions), predictions.logits)\n",
        "predictions1 = np.asarray(predictions)\n",
        "# print(predictions1)\n",
        "# tf.Tensor(predictions, dtype=float32)"
      ],
      "execution_count": 39,
      "outputs": [
        {
          "output_type": "stream",
          "text": [
            "MaskedLMOutput(loss=None, logits=tensor([[[ -7.1684,  -7.1512,  -7.1633,  ...,  -6.8077,  -6.6687,  -4.6373],\n",
            "         [ -8.0519,  -8.2768,  -8.4081,  ...,  -6.8627,  -6.2634,  -5.6399],\n",
            "         [ -4.5856,  -4.6966,  -4.7682,  ...,  -3.7838,  -4.6696,  -3.4708],\n",
            "         ...,\n",
            "         [-14.5482, -14.9839, -14.9585,  ..., -14.0771, -13.2001, -10.3784],\n",
            "         [-13.0612, -13.1424, -13.1241,  ..., -13.3294, -13.4990, -10.8282],\n",
            "         [-10.3278, -10.2445, -10.2677,  ..., -10.3128,  -9.1616,  -7.2599]]]), hidden_states=None, attentions=None)\n",
            "<class 'transformers.modeling_outputs.MaskedLMOutput'> 1 tensor([[[ -7.1684,  -7.1512,  -7.1633,  ...,  -6.8077,  -6.6687,  -4.6373],\n",
            "         [ -8.0519,  -8.2768,  -8.4081,  ...,  -6.8627,  -6.2634,  -5.6399],\n",
            "         [ -4.5856,  -4.6966,  -4.7682,  ...,  -3.7838,  -4.6696,  -3.4708],\n",
            "         ...,\n",
            "         [-14.5482, -14.9839, -14.9585,  ..., -14.0771, -13.2001, -10.3784],\n",
            "         [-13.0612, -13.1424, -13.1241,  ..., -13.3294, -13.4990, -10.8282],\n",
            "         [-10.3278, -10.2445, -10.2677,  ..., -10.3128,  -9.1616,  -7.2599]]])\n"
          ],
          "name": "stdout"
        }
      ]
    },
    {
      "cell_type": "code",
      "metadata": {
        "id": "mhqSpJE_QVa1"
      },
      "source": [
        "#Predict words for mask using BERT; \n",
        "#refine prediction by matching with proposals from SpellChecker\n",
        "def predict_word(text_original, predictions, maskids):\n",
        "    pred_words=[]\n",
        "    for i in range(len(MASKIDS)):\n",
        "        preds = torch.topk(predictions.logits[0][MASKIDS[i]], k=50)\n",
        "        # print(preds)\n",
        "        indices = preds.indices.tolist()\n",
        "        list1 = tokenizer.convert_ids_to_tokens(indices)\n",
        "        list2 = suggestedwords[i]\n",
        "        simmax=0\n",
        "        predicted_token=''\n",
        "        for word1 in list1:\n",
        "            for word2 in list2:\n",
        "                s = SequenceMatcher(None, word1, word2).ratio()\n",
        "                if s is not None and s > simmax:\n",
        "                    simmax = s\n",
        "                    predicted_token = word1\n",
        "        text_original = text_original.replace('[MASK]', predicted_token, 1)\n",
        "    return text_original"
      ],
      "execution_count": 40,
      "outputs": []
    },
    {
      "cell_type": "code",
      "metadata": {
        "colab": {
          "base_uri": "https://localhost:8080/"
        },
        "id": "E2l4kHtVQdPW",
        "outputId": "88f47a7d-50b9-46fb-df13-9161cad4f20e"
      },
      "source": [
        "text_original = predict_word(text_original, predictions, MASKIDS)\n",
        "print (text_original)\n",
        "# print(MASKIDS, len(predictions))"
      ],
      "execution_count": 41,
      "outputs": [
        {
          "output_type": "stream",
          "text": [
            " Most district reports indicate somewhat congress regional economic activity on balance in December and early January than at the time of last reports in November, with much of the growth insurance at the retail and industrial sectors. It would appear, on the basis of these reports, that the national economy gained momentum in recent weeks as consumer spending strengthened, manufacturing activity continued to rise, and producers scheduled more investment in plant and equipment.\n"
          ],
          "name": "stdout"
        }
      ]
    },
    {
      "cell_type": "code",
      "metadata": {
        "id": "biEpIC5jwTx0"
      },
      "source": [
        ""
      ],
      "execution_count": null,
      "outputs": []
    }
  ]
}