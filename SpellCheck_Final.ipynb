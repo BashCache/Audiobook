{
  "nbformat": 4,
  "nbformat_minor": 0,
  "metadata": {
    "colab": {
      "name": "SpellCheck-Final.ipynb",
      "provenance": []
    },
    "kernelspec": {
      "name": "python3",
      "display_name": "Python 3"
    },
    "language_info": {
      "name": "python"
    }
  },
  "cells": [
    {
      "cell_type": "code",
      "metadata": {
        "colab": {
          "base_uri": "https://localhost:8080/"
        },
        "id": "oKSu3-GtACSP",
        "outputId": "91b84983-7add-411c-da00-e0e45f38a6b3"
      },
      "source": [
        "# importing preliminaries\n",
        "%pylab inline\n",
        "import re\n",
        "import math\n",
        "import string\n",
        "import nltk\n",
        "from enchant.checker import SpellChecker\n",
        "from urllib.parse import urlparse"
      ],
      "execution_count": null,
      "outputs": [
        {
          "output_type": "stream",
          "text": [
            "Populating the interactive namespace from numpy and matplotlib\n"
          ],
          "name": "stdout"
        },
        {
          "output_type": "stream",
          "text": [
            "/usr/local/lib/python3.7/dist-packages/IPython/core/magics/pylab.py:161: UserWarning: pylab import has clobbered these variables: ['text']\n",
            "`%matplotlib` prevents importing * from pylab and numpy\n",
            "  \"\\n`%matplotlib` prevents importing * from pylab and numpy\"\n"
          ],
          "name": "stderr"
        }
      ]
    },
    {
      "cell_type": "code",
      "metadata": {
        "id": "YdI6XLWoAJe6"
      },
      "source": [
        "from google.colab import drive"
      ],
      "execution_count": null,
      "outputs": []
    },
    {
      "cell_type": "code",
      "metadata": {
        "colab": {
          "base_uri": "https://localhost:8080/"
        },
        "id": "-bFIlZNINAqw",
        "outputId": "2866f7f3-1f22-4257-be27-44265ea221f0"
      },
      "source": [
        "!apt install enchant\n",
        "!pip install pyenchant"
      ],
      "execution_count": null,
      "outputs": [
        {
          "output_type": "stream",
          "text": [
            "Reading package lists... Done\n",
            "Building dependency tree       \n",
            "Reading state information... Done\n",
            "The following additional packages will be installed:\n",
            "  aspell aspell-en dictionaries-common emacsen-common hunspell-en-us\n",
            "  libaspell15 libenchant1c2a libhunspell-1.6-0 libtext-iconv-perl\n",
            "Suggested packages:\n",
            "  aspell-doc spellutils wordlist hunspell openoffice.org-hunspell\n",
            "  | openoffice.org-core libenchant-voikko\n",
            "The following NEW packages will be installed:\n",
            "  aspell aspell-en dictionaries-common emacsen-common enchant hunspell-en-us\n",
            "  libaspell15 libenchant1c2a libhunspell-1.6-0 libtext-iconv-perl\n",
            "0 upgraded, 10 newly installed, 0 to remove and 31 not upgraded.\n",
            "Need to get 1,310 kB of archives.\n",
            "After this operation, 5,353 kB of additional disk space will be used.\n",
            "Get:1 http://archive.ubuntu.com/ubuntu bionic/main amd64 libtext-iconv-perl amd64 1.7-5build6 [13.0 kB]\n",
            "Get:2 http://archive.ubuntu.com/ubuntu bionic-updates/main amd64 libaspell15 amd64 0.60.7~20110707-4ubuntu0.1 [309 kB]\n",
            "Get:3 http://archive.ubuntu.com/ubuntu bionic/main amd64 emacsen-common all 2.0.8 [17.6 kB]\n",
            "Get:4 http://archive.ubuntu.com/ubuntu bionic/main amd64 dictionaries-common all 1.27.2 [186 kB]\n",
            "Get:5 http://archive.ubuntu.com/ubuntu bionic-updates/main amd64 aspell amd64 0.60.7~20110707-4ubuntu0.1 [87.6 kB]\n",
            "Get:6 http://archive.ubuntu.com/ubuntu bionic/main amd64 aspell-en all 2017.08.24-0-0.1 [298 kB]\n",
            "Get:7 http://archive.ubuntu.com/ubuntu bionic/main amd64 hunspell-en-us all 1:2017.08.24 [168 kB]\n",
            "Get:8 http://archive.ubuntu.com/ubuntu bionic/main amd64 libhunspell-1.6-0 amd64 1.6.2-1 [154 kB]\n",
            "Get:9 http://archive.ubuntu.com/ubuntu bionic/main amd64 libenchant1c2a amd64 1.6.0-11.1 [64.4 kB]\n",
            "Get:10 http://archive.ubuntu.com/ubuntu bionic/main amd64 enchant amd64 1.6.0-11.1 [12.2 kB]\n",
            "Fetched 1,310 kB in 1s (953 kB/s)\n",
            "Preconfiguring packages ...\n",
            "Selecting previously unselected package libtext-iconv-perl.\n",
            "(Reading database ... 160983 files and directories currently installed.)\n",
            "Preparing to unpack .../0-libtext-iconv-perl_1.7-5build6_amd64.deb ...\n",
            "Unpacking libtext-iconv-perl (1.7-5build6) ...\n",
            "Selecting previously unselected package libaspell15:amd64.\n",
            "Preparing to unpack .../1-libaspell15_0.60.7~20110707-4ubuntu0.1_amd64.deb ...\n",
            "Unpacking libaspell15:amd64 (0.60.7~20110707-4ubuntu0.1) ...\n",
            "Selecting previously unselected package emacsen-common.\n",
            "Preparing to unpack .../2-emacsen-common_2.0.8_all.deb ...\n",
            "Unpacking emacsen-common (2.0.8) ...\n",
            "Selecting previously unselected package dictionaries-common.\n",
            "Preparing to unpack .../3-dictionaries-common_1.27.2_all.deb ...\n",
            "Adding 'diversion of /usr/share/dict/words to /usr/share/dict/words.pre-dictionaries-common by dictionaries-common'\n",
            "Unpacking dictionaries-common (1.27.2) ...\n",
            "Selecting previously unselected package aspell.\n",
            "Preparing to unpack .../4-aspell_0.60.7~20110707-4ubuntu0.1_amd64.deb ...\n",
            "Unpacking aspell (0.60.7~20110707-4ubuntu0.1) ...\n",
            "Selecting previously unselected package aspell-en.\n",
            "Preparing to unpack .../5-aspell-en_2017.08.24-0-0.1_all.deb ...\n",
            "Unpacking aspell-en (2017.08.24-0-0.1) ...\n",
            "Selecting previously unselected package hunspell-en-us.\n",
            "Preparing to unpack .../6-hunspell-en-us_1%3a2017.08.24_all.deb ...\n",
            "Unpacking hunspell-en-us (1:2017.08.24) ...\n",
            "Selecting previously unselected package libhunspell-1.6-0:amd64.\n",
            "Preparing to unpack .../7-libhunspell-1.6-0_1.6.2-1_amd64.deb ...\n",
            "Unpacking libhunspell-1.6-0:amd64 (1.6.2-1) ...\n",
            "Selecting previously unselected package libenchant1c2a:amd64.\n",
            "Preparing to unpack .../8-libenchant1c2a_1.6.0-11.1_amd64.deb ...\n",
            "Unpacking libenchant1c2a:amd64 (1.6.0-11.1) ...\n",
            "Selecting previously unselected package enchant.\n",
            "Preparing to unpack .../9-enchant_1.6.0-11.1_amd64.deb ...\n",
            "Unpacking enchant (1.6.0-11.1) ...\n",
            "Setting up libhunspell-1.6-0:amd64 (1.6.2-1) ...\n",
            "Setting up libaspell15:amd64 (0.60.7~20110707-4ubuntu0.1) ...\n",
            "Setting up emacsen-common (2.0.8) ...\n",
            "Setting up libtext-iconv-perl (1.7-5build6) ...\n",
            "Setting up dictionaries-common (1.27.2) ...\n",
            "Setting up aspell (0.60.7~20110707-4ubuntu0.1) ...\n",
            "Setting up hunspell-en-us (1:2017.08.24) ...\n",
            "Setting up libenchant1c2a:amd64 (1.6.0-11.1) ...\n",
            "Setting up aspell-en (2017.08.24-0-0.1) ...\n",
            "Setting up enchant (1.6.0-11.1) ...\n",
            "Processing triggers for libc-bin (2.27-3ubuntu1.2) ...\n",
            "/sbin/ldconfig.real: /usr/local/lib/python3.7/dist-packages/ideep4py/lib/libmkldnn.so.0 is not a symbolic link\n",
            "\n",
            "Processing triggers for man-db (2.8.3-2ubuntu0.1) ...\n",
            "Processing triggers for dictionaries-common (1.27.2) ...\n",
            "aspell-autobuildhash: processing: en [en-common].\n",
            "aspell-autobuildhash: processing: en [en-variant_0].\n",
            "aspell-autobuildhash: processing: en [en-variant_1].\n",
            "aspell-autobuildhash: processing: en [en-variant_2].\n",
            "aspell-autobuildhash: processing: en [en-w_accents-only].\n",
            "aspell-autobuildhash: processing: en [en-wo_accents-only].\n",
            "aspell-autobuildhash: processing: en [en_AU-variant_0].\n",
            "aspell-autobuildhash: processing: en [en_AU-variant_1].\n",
            "aspell-autobuildhash: processing: en [en_AU-w_accents-only].\n",
            "aspell-autobuildhash: processing: en [en_AU-wo_accents-only].\n",
            "aspell-autobuildhash: processing: en [en_CA-variant_0].\n",
            "aspell-autobuildhash: processing: en [en_CA-variant_1].\n",
            "aspell-autobuildhash: processing: en [en_CA-w_accents-only].\n",
            "aspell-autobuildhash: processing: en [en_CA-wo_accents-only].\n",
            "aspell-autobuildhash: processing: en [en_GB-ise-w_accents-only].\n",
            "aspell-autobuildhash: processing: en [en_GB-ise-wo_accents-only].\n",
            "aspell-autobuildhash: processing: en [en_GB-ize-w_accents-only].\n",
            "aspell-autobuildhash: processing: en [en_GB-ize-wo_accents-only].\n",
            "aspell-autobuildhash: processing: en [en_GB-variant_0].\n",
            "aspell-autobuildhash: processing: en [en_GB-variant_1].\n",
            "aspell-autobuildhash: processing: en [en_US-w_accents-only].\n",
            "aspell-autobuildhash: processing: en [en_US-wo_accents-only].\n",
            "Collecting pyenchant\n",
            "\u001b[?25l  Downloading https://files.pythonhosted.org/packages/99/8c/bd224a5db562ac008edbfaf015f5d5c98ea13e745247cd4ab5fc5b683085/pyenchant-3.2.0-py3-none-any.whl (55kB)\n",
            "\u001b[K     |████████████████████████████████| 61kB 4.8MB/s \n",
            "\u001b[?25hInstalling collected packages: pyenchant\n",
            "Successfully installed pyenchant-3.2.0\n"
          ],
          "name": "stdout"
        }
      ]
    },
    {
      "cell_type": "code",
      "metadata": {
        "colab": {
          "base_uri": "https://localhost:8080/"
        },
        "id": "B4CNy_SDNIG4",
        "outputId": "2cba7e0c-be89-478e-c044-e2c22865c022"
      },
      "source": [
        "nltk.download('punkt')\n",
        "nltk.download('averaged_perceptron_tagger')\n",
        "nltk.download('maxent_ne_chunker')\n",
        "nltk.download('words')"
      ],
      "execution_count": null,
      "outputs": [
        {
          "output_type": "stream",
          "text": [
            "[nltk_data] Downloading package punkt to /root/nltk_data...\n",
            "[nltk_data]   Unzipping tokenizers/punkt.zip.\n",
            "[nltk_data] Downloading package averaged_perceptron_tagger to\n",
            "[nltk_data]     /root/nltk_data...\n",
            "[nltk_data]   Unzipping taggers/averaged_perceptron_tagger.zip.\n",
            "[nltk_data] Downloading package maxent_ne_chunker to\n",
            "[nltk_data]     /root/nltk_data...\n",
            "[nltk_data]   Unzipping chunkers/maxent_ne_chunker.zip.\n",
            "[nltk_data] Downloading package words to /root/nltk_data...\n",
            "[nltk_data]   Unzipping corpora/words.zip.\n"
          ],
          "name": "stdout"
        },
        {
          "output_type": "execute_result",
          "data": {
            "text/plain": [
              "True"
            ]
          },
          "metadata": {
            "tags": []
          },
          "execution_count": 6
        }
      ]
    },
    {
      "cell_type": "code",
      "metadata": {
        "id": "ePtG63xvCBH1"
      },
      "source": [
        "text = \"\"\" REFERENCES\n",
        "\n",
        "[1] A.D. Ho etal., “HarvardX and MITx: The First Year of Open Online Courses, Fall 2012-Summer\n",
        "2013,” SSRN Electron. JNo. 1, pp. 1-33, 2014.\n",
        "\n",
        "[2] Abidi, S.M.R.; Hussain, M.; Xu, Y.; Zhang, W. “Prediction of Confusion Attempting Algebra\n",
        "Homework in an Intelligent Tutoring System through Machine Learning Techniques for\n",
        "Educational Sustainable Development.” Sustainability 2019, 11, 105.\n",
        "\n",
        "[3] Al-Shabandar, R., Hussain, A, Laws, A., Keight, R., & Lunn, J. (2017). “Machine learning\n",
        "approaches to predict learning outcomes in massive open online courses.” Paper presented at the\n",
        "2017 international joint conference on neural networks (IJCNN 2017), Anchorage, Alaska, USA.\n",
        "\n",
        "[4] C. Peng, K. Lee, and G. M. Ingersoll, “An introduction to logistic regression analysis and\n",
        "reporting,” J. Educ. Res., vol. 96, pp. 3~14, 2002.\n",
        "\n",
        "151\n",
        "ISSN: 2582-2640 (online)\n",
        "Submitted: 08.05.2020 a\n",
        "Accepted: 21.06.2020 7 we\n",
        "Published: 27.06.2020 —\n",
        "\fJournal of Soft Computing Paradigm (JSCP) (2020)\n",
        "Vol.02/ No.03\n",
        "\n",
        "Pages: 140-152\n",
        "\n",
        "http://irojournals.com/jscp/\n",
        "\n",
        "DOI: https://doi.org/10.36548/jscp.2020.3.001\n",
        "\n",
        "[5] D. S. Chaplot, E. Rhim, and J. Kim, “Predicting student attrition in MOOCs using sentiment\n",
        "analysis and neural networks,” Work. 17th Int. Conf. Artif. Intell. Educ. AIED-WS 2015, vol.\n",
        "1432, pp. 7-12, 2015.\n",
        "\n",
        "[6] D. S. Chaplot, E. Rhim, and J. Kim, “Predicting student attrition in MOOCs using sentiment\n",
        "analysis and neural networks,” in Fourth Workshop on Intelligent Support for Learning in Groups,\n",
        "Madrid, Spain, June 2015.\n",
        "\n",
        "[7] Halawa, S.; Greene, D.; and Mitchell, J. 2014. “Dropout prediction in MOOCs using learner\n",
        "activity features.” In Proceedings of the European MOOC Summit.\n",
        "\n",
        "[8] M. Kloft, F. Stiehler, Z. Zheng, and N. Pinkwart, “Predicting MOOC dropout over weeks using\n",
        "machine learning methods,” in Conference on Empirical Methods in Natural Language Processing\n",
        "(EMNLP), Doha, Qatar, October 2014.\n",
        "\n",
        "[9] Mongkhonavit, K., Kanopa, K. and Lang, D. (2019). “Deep Knowledge Tracing and Engagement\n",
        "with MOOCs.” Proceedings of the 9th International Conference on Learning Analytics &\n",
        "Knowledge. Pp. 340-342, Tempe, AZ, USA — March 04 - 08, 2019.\n",
        "\n",
        "[10] P. Viszlay, M. Lojka and J. Juhar, ““Class-dependent two dimensional linear discriminant analysis\n",
        "using two-pass recognition strategy”, in: Proceedings of the 22nd European Signal Processing\n",
        "Conference (EUSIPCO), IEEE, 2014, pp. 1796- 1800.\n",
        "\n",
        "[11] R. F. Kizilcec, C. Piech, and E. Schneider, “Deconstructing Disengagement: Analyzing Learner\n",
        "Subpopulations in Massive Open Online Courses,” Lak ’13, p. 10, 2013.\n",
        "\n",
        "[12] R. R. Kabra and R. S. Bichkar, “Performance prediction of engineering students using decision\n",
        "trees,” Int. J. Comput. Appl., vol. 36, no. 11, pp. 8-12, 2011.\n",
        "\n",
        "[13] Sinha, T., Jermann, P., Li, N., Dillenbourg, P. (2014). “Your click decides your fate: Inferring\n",
        "Information Processing and Attrition Behavior from MOOC Video Clickstream Interactions.”\n",
        "Proc. of the 2014 Empirical Methods in Natural Language Processing Workshop on Modeling\n",
        "Large Scale Social Interaction in Massively Open Online Courses.\n",
        "\n",
        "[14] Svozil D, Kvasnicka V, Pospichal J. “Introduction to multi-layer feed-forward neural networks.”\n",
        "Chemometrics and intelligent laboratory systems 1997;39(1):43-62.\n",
        "\n",
        "[15] Tharwat, Alaa & Gaber, Tarek & Ibrahim, Abdelhameed & Hassanien, Aboul Ella. (2017).\n",
        "“Linear discriminant analysis: A detailed tutorial.” Ai Communications. 30. 169-190,.\n",
        "10.3233/AIC-170729.\n",
        "\n",
        "[16] W. Xing and D. Du, “Dropout Prediction in MOOCs: Using Deep Learning for Personalized\n",
        "Intervention,” J. Educ. Comput. Res., 2018.\n",
        "\n",
        "[17] Scipy. Retrieved from https://docs.scipy.org/doc/scipy/reference/tutorial/general.html\n",
        "\n",
        "152\n",
        "ISSN: 2582-2640 (online) ;\n",
        "Submitted: 08.05.2020 e\n",
        "Accepted: 21.06.2020 ; Lv)\n",
        "Published: 27.06.2020 —\n",
        "\n",
        " \n",
        "\f\n",
        "\"\"\"\n",
        "text_original = text"
      ],
      "execution_count": null,
      "outputs": []
    },
    {
      "cell_type": "code",
      "metadata": {
        "id": "RlLTy-I5Nezd"
      },
      "source": [
        "# remove punctuation\n",
        "def basicRemoval(text):\n",
        "  punc = '\\<>#$%_~()[]{}'\n",
        "  for ele in text: \n",
        "    if ele in punc:  \n",
        "      text = text.replace(ele, \" \") \n",
        "  print('BASIC REMOVAL: ', text)\n",
        "  return text"
      ],
      "execution_count": null,
      "outputs": []
    },
    {
      "cell_type": "code",
      "metadata": {
        "id": "WvvLmzDuNfRb"
      },
      "source": [
        "# cleanup text\n",
        "def cleanupText(text):\n",
        "  rep = { '\\n': ' ', '\\\\': ' ', '\\\"': '\"', '-': ' ', '\"': ' \" ', \n",
        "        '\"': ' \" ', '\"': ' \" ', ',':' , ',  '!':' ! ', \n",
        "        '?':' ? ', \"n't\": \" not\" , \"'ll\": \" will\", '*':' * ', \n",
        "        '(': ' ( ', ')': ' ) ', \"s'\": \"s '\", '“': ' “ ', '”': ' ” ', '’': ' ’ '}\n",
        "  rep = dict((re.escape(k), v) for k, v in rep.items()) \n",
        "  pattern = re.compile(\"|\".join(rep.keys()))\n",
        "  text = pattern.sub(lambda m: rep[re.escape(m.group(0))], text)\n",
        "  print('CLEANUP TEXT: ', text)\n",
        "  return text"
      ],
      "execution_count": null,
      "outputs": []
    },
    {
      "cell_type": "code",
      "metadata": {
        "id": "jgXHJReiNkoW"
      },
      "source": [
        "# Get each word\n",
        "# If word starts with capital letter, or is entirely in CAPS do not consider that as wrong word\n",
        "# Check for mail ID\n",
        "def wordSplit(text):\n",
        "  words = text.split()\n",
        "  print('WORD SPLIT: ', len(words), words)\n",
        "  return words"
      ],
      "execution_count": null,
      "outputs": []
    },
    {
      "cell_type": "code",
      "metadata": {
        "id": "wM8Q-whZNnOl"
      },
      "source": [
        "# Consider all words starting in capital letter as proper noun\n",
        "def getProperNoun(words):\n",
        "  propernoun = []\n",
        "  for i in range(len(words)):\n",
        "    # print(len(words[i]))\n",
        "    if (len(words[i])>0 and words[i][0].isupper() == True):\n",
        "      propernoun.append(words[i])\n",
        "  print('PROPER NOUN: ', propernoun)\n",
        "  return propernoun"
      ],
      "execution_count": null,
      "outputs": []
    },
    {
      "cell_type": "code",
      "metadata": {
        "id": "zhR15eCgNpac"
      },
      "source": [
        "# Check for email ids\n",
        "def getEmail(words):\n",
        "  EMAIL_REGEX = re.compile(r\"[^@]+@[^@]+\\.[^@]+\")\n",
        "  email = []\n",
        "  for i in range(len(words)):\n",
        "    if EMAIL_REGEX.match(words[i]):\n",
        "      email.append(words[i])\n",
        "  print('EMAIL: ', email)\n",
        "  return email"
      ],
      "execution_count": null,
      "outputs": []
    },
    {
      "cell_type": "code",
      "metadata": {
        "id": "-x1IgGc4NrQl"
      },
      "source": [
        "# Check for URLs ( This will be mostly applicable for academic papers)\n",
        "def getURL(words):\n",
        "  url = []\n",
        "  for i in range(len(words)):\n",
        "    o = urlparse(words[i])\n",
        "    if (o.scheme != \"\" and o.netloc !=\"\" and o.path!=\"\"):\n",
        "      url.append(words[i])\n",
        "  print('URL: ', url)\n",
        "  return url"
      ],
      "execution_count": null,
      "outputs": []
    },
    {
      "cell_type": "code",
      "metadata": {
        "id": "7RkleIcqNtaX"
      },
      "source": [
        "# using enchant.checker.SpellChecker, identify basic incorrect words and get basic suggested replacements\n",
        "def basicSpellCheck(propernoun, email, url):\n",
        "  ignorewords = propernoun + email + url + [\"!\", \",\", \".\", \"\\\"\", \"?\", '(', ')', '*', '\\'', '[', ']', '{', '}', '”', '“', '’']\n",
        "  d = SpellChecker(\"en_US\")\n",
        "  incorrectwords = [w for w in words if len(w)>0 and not d.check(w) and w not in ignorewords]\n",
        "  suggestedwords = [d.suggest(w) for w in incorrectwords]\n",
        "  print('INCORRECT WORDS: ', incorrectwords)\n",
        "  print('CORRECT WORDS: ', suggestedwords)\n",
        "  return (incorrectwords, suggestedwords)"
      ],
      "execution_count": null,
      "outputs": []
    },
    {
      "cell_type": "code",
      "metadata": {
        "id": "G5-KA05lNv-v"
      },
      "source": [
        "# Get the final list of incorrect and suggeste words\n",
        "def finalIncorrectAndSuggested(incorrectwords, suggestedwords):\n",
        "  final_incorrectwords = []\n",
        "  final_suggestedwords = []\n",
        "  for i in range(len(suggestedwords)):\n",
        "    if (len(suggestedwords[i]) < 0):\n",
        "      ;\n",
        "    else :\n",
        "      final_incorrectwords.append(incorrectwords[i])\n",
        "      final_suggestedwords.append(suggestedwords[i])\n",
        "  print('FINAL INCORRECT WORDS: ', final_incorrectwords)\n",
        "  print('FINAL CORRECT WORDS: ', final_suggestedwords)\n",
        "  return (final_incorrectwords, final_suggestedwords)"
      ],
      "execution_count": null,
      "outputs": []
    },
    {
      "cell_type": "code",
      "metadata": {
        "id": "IKM29IxdO1K_"
      },
      "source": [
        "# replace incorrect words with [MASK]\n",
        "def replaceMASK(text, text_original, final_incorrectwords):\n",
        "  text_words = text.split()\n",
        "  for i in range(len(text_words)):      # Doing this to remove 1 letter word\n",
        "    if (len(text_words[i]) == 1 and (text_words[i]!='a' or text_words[i]!='A' or text_words[i]!=',' or text_words[i]!='.' or text_words[i]!='\\'')):\n",
        "      text_words[i] = ''\n",
        "  print('BEFORE: ', text_words)\n",
        "\n",
        "  for i in range(len(text_words)):\n",
        "    for w in final_incorrectwords:\n",
        "      if w == text_words[i]:\n",
        "        text_words[i] = '[MASK]'\n",
        "  print('AFTER: ', text_words)\n",
        "\n",
        "  text_replaced = \"\"\n",
        "  print(len(text_words))\n",
        "  for i in range(len(text_words)):\n",
        "    text_replaced += text_words[i] + \" \"\n",
        "\n",
        "  text_original_replaced = text_replaced\n",
        "  print('FINAL TEXT REPLACED WITH ERRORS: ', text_original_replaced)\n",
        "  return (text_replaced, text_original_replaced)"
      ],
      "execution_count": null,
      "outputs": []
    },
    {
      "cell_type": "code",
      "metadata": {
        "colab": {
          "base_uri": "https://localhost:8080/"
        },
        "id": "W_09FjPAO_nC",
        "outputId": "8db7028e-1b61-47c2-cae6-7c8d99c0f91f"
      },
      "source": [
        "text = basicRemoval(text)\n",
        "text = cleanupText(text)\n",
        "words = wordSplit(text)\n",
        "propernoun = getProperNoun(words)\n",
        "email = getEmail(words)\n",
        "url = getURL(words)\n",
        "incorrectwords, suggestedwords = basicSpellCheck(propernoun, email, url)\n",
        "final_incorrectwords, final_suggestedwords = finalIncorrectAndSuggested(incorrectwords, suggestedwords)\n",
        "text_replaced, text_original_replaced = replaceMASK(text, text_original, final_incorrectwords)"
      ],
      "execution_count": null,
      "outputs": [
        {
          "output_type": "stream",
          "text": [
            "BASIC REMOVAL:   REFERENCES   1  A.D. Ho etal.  ,     “  HarvardX and MITx: The First Year of Open Online Courses  ,   Fall 2012 Summer 2013  ,    ”   SSRN Electron. JNo. 1  ,   pp. 1 33  ,   2014.   2  Abidi  ,   S.M.R.; Hussain  ,   M.; Xu  ,   Y.; Zhang  ,   W.   “  Prediction of Confusion Attempting Algebra Homework in an Intelligent Tutoring System through Machine Learning Techniques for Educational Sustainable Development.  ”   Sustainability 2019  ,   11  ,   105.   3  Al Shabandar  ,   R.  ,   Hussain  ,   A  ,   Laws  ,   A.  ,   Keight  ,   R.  ,   & Lunn  ,   J.  2017 .   “  Machine learning approaches to predict learning outcomes in massive open online courses.  ”   Paper presented at the 2017 international joint conference on neural networks  IJCNN 2017   ,   Anchorage  ,   Alaska  ,   USA.   4  C. Peng  ,   K. Lee  ,   and G. M. Ingersoll  ,     “  An introduction to logistic regression analysis and reporting  ,    ”   J. Educ. Res.  ,   vol. 96  ,   pp. 3 14  ,   2002.  151 ISSN: 2582 2640  online  Submitted: 08.05.2020 a Accepted: 21.06.2020 7 we Published: 27.06.2020 —  Journal of Soft Computing Paradigm  JSCP   2020  Vol.02/ No.03  Pages: 140 152  http://irojournals.com/jscp/  DOI: https://doi.org/10.36548/jscp.2020.3.001   5  D. S. Chaplot  ,   E. Rhim  ,   and J. Kim  ,     “  Predicting student attrition in MOOCs using sentiment analysis and neural networks  ,    ”   Work. 17th Int. Conf. Artif. Intell. Educ. AIED WS 2015  ,   vol. 1432  ,   pp. 7 12  ,   2015.   6  D. S. Chaplot  ,   E. Rhim  ,   and J. Kim  ,     “  Predicting student attrition in MOOCs using sentiment analysis and neural networks  ,    ”   in Fourth Workshop on Intelligent Support for Learning in Groups  ,   Madrid  ,   Spain  ,   June 2015.   7  Halawa  ,   S.; Greene  ,   D.; and Mitchell  ,   J. 2014.   “  Dropout prediction in MOOCs using learner activity features.  ”   In Proceedings of the European MOOC Summit.   8  M. Kloft  ,   F. Stiehler  ,   Z. Zheng  ,   and N. Pinkwart  ,     “  Predicting MOOC dropout over weeks using machine learning methods  ,    ”   in Conference on Empirical Methods in Natural Language Processing  EMNLP   ,   Doha  ,   Qatar  ,   October 2014.   9  Mongkhonavit  ,   K.  ,   Kanopa  ,   K. and Lang  ,   D.  2019 .   “  Deep Knowledge Tracing and Engagement with MOOCs.  ”   Proceedings of the 9th International Conference on Learning Analytics & Knowledge. Pp. 340 342  ,   Tempe  ,   AZ  ,   USA — March 04   08  ,   2019.   10  P. Viszlay  ,   M. Lojka and J. Juhar  ,     “    “  Class dependent two dimensional linear discriminant analysis using two pass recognition strategy  ”    ,   in: Proceedings of the 22nd European Signal Processing Conference  EUSIPCO   ,   IEEE  ,   2014  ,   pp. 1796  1800.   11  R. F. Kizilcec  ,   C. Piech  ,   and E. Schneider  ,     “  Deconstructing Disengagement: Analyzing Learner Subpopulations in Massive Open Online Courses  ,    ”   Lak  ’ 13  ,   p. 10  ,   2013.   12  R. R. Kabra and R. S. Bichkar  ,     “  Performance prediction of engineering students using decision trees  ,    ”   Int. J. Comput. Appl.  ,   vol. 36  ,   no. 11  ,   pp. 8 12  ,   2011.   13  Sinha  ,   T.  ,   Jermann  ,   P.  ,   Li  ,   N.  ,   Dillenbourg  ,   P.  2014 .   “  Your click decides your fate: Inferring Information Processing and Attrition Behavior from MOOC Video Clickstream Interactions.  ”   Proc. of the 2014 Empirical Methods in Natural Language Processing Workshop on Modeling Large Scale Social Interaction in Massively Open Online Courses.   14  Svozil D  ,   Kvasnicka V  ,   Pospichal J.   “  Introduction to multi layer feed forward neural networks.  ”   Chemometrics and intelligent laboratory systems 1997;39 1 :43 62.   15  Tharwat  ,   Alaa & Gaber  ,   Tarek & Ibrahim  ,   Abdelhameed & Hassanien  ,   Aboul Ella.  2017 .   “  Linear discriminant analysis: A detailed tutorial.  ”   Ai Communications. 30. 169 190  ,  . 10.3233/AIC 170729.   16  W. Xing and D. Du  ,     “  Dropout Prediction in MOOCs: Using Deep Learning for Personalized Intervention  ,    ”   J. Educ. Comput. Res.  ,   2018.   17  Scipy. Retrieved from https://docs.scipy.org/doc/scipy/reference/tutorial/general.html  152 ISSN: 2582 2640  online  ; Submitted: 08.05.2020 e Accepted: 21.06.2020 ; Lv  Published: 27.06.2020 —      \n",
            "CLEANUP TEXT:   REFERENCES   1  A.D. Ho etal.   ,       “   HarvardX and MITx: The First Year of Open Online Courses   ,    Fall 2012 Summer 2013   ,      ”    SSRN Electron. JNo. 1   ,    pp. 1 33   ,    2014.   2  Abidi   ,    S.M.R.; Hussain   ,    M.; Xu   ,    Y.; Zhang   ,    W.    “   Prediction of Confusion Attempting Algebra Homework in an Intelligent Tutoring System through Machine Learning Techniques for Educational Sustainable Development.   ”    Sustainability 2019   ,    11   ,    105.   3  Al Shabandar   ,    R.   ,    Hussain   ,    A   ,    Laws   ,    A.   ,    Keight   ,    R.   ,    & Lunn   ,    J.  2017 .    “   Machine learning approaches to predict learning outcomes in massive open online courses.   ”    Paper presented at the 2017 international joint conference on neural networks  IJCNN 2017    ,    Anchorage   ,    Alaska   ,    USA.   4  C. Peng   ,    K. Lee   ,    and G. M. Ingersoll   ,       “   An introduction to logistic regression analysis and reporting   ,      ”    J. Educ. Res.   ,    vol. 96   ,    pp. 3 14   ,    2002.  151 ISSN: 2582 2640  online  Submitted: 08.05.2020 a Accepted: 21.06.2020 7 we Published: 27.06.2020 —  Journal of Soft Computing Paradigm  JSCP   2020  Vol.02/ No.03  Pages: 140 152  http://irojournals.com/jscp/  DOI: https://doi.org/10.36548/jscp.2020.3.001   5  D. S. Chaplot   ,    E. Rhim   ,    and J. Kim   ,       “   Predicting student attrition in MOOCs using sentiment analysis and neural networks   ,      ”    Work. 17th Int. Conf. Artif. Intell. Educ. AIED WS 2015   ,    vol. 1432   ,    pp. 7 12   ,    2015.   6  D. S. Chaplot   ,    E. Rhim   ,    and J. Kim   ,       “   Predicting student attrition in MOOCs using sentiment analysis and neural networks   ,      ”    in Fourth Workshop on Intelligent Support for Learning in Groups   ,    Madrid   ,    Spain   ,    June 2015.   7  Halawa   ,    S.; Greene   ,    D.; and Mitchell   ,    J. 2014.    “   Dropout prediction in MOOCs using learner activity features.   ”    In Proceedings of the European MOOC Summit.   8  M. Kloft   ,    F. Stiehler   ,    Z. Zheng   ,    and N. Pinkwart   ,       “   Predicting MOOC dropout over weeks using machine learning methods   ,      ”    in Conference on Empirical Methods in Natural Language Processing  EMNLP    ,    Doha   ,    Qatar   ,    October 2014.   9  Mongkhonavit   ,    K.   ,    Kanopa   ,    K. and Lang   ,    D.  2019 .    “   Deep Knowledge Tracing and Engagement with MOOCs.   ”    Proceedings of the 9th International Conference on Learning Analytics & Knowledge. Pp. 340 342   ,    Tempe   ,    AZ   ,    USA — March 04   08   ,    2019.   10  P. Viszlay   ,    M. Lojka and J. Juhar   ,       “      “   Class dependent two dimensional linear discriminant analysis using two pass recognition strategy   ”      ,    in: Proceedings of the 22nd European Signal Processing Conference  EUSIPCO    ,    IEEE   ,    2014   ,    pp. 1796  1800.   11  R. F. Kizilcec   ,    C. Piech   ,    and E. Schneider   ,       “   Deconstructing Disengagement: Analyzing Learner Subpopulations in Massive Open Online Courses   ,      ”    Lak   ’  13   ,    p. 10   ,    2013.   12  R. R. Kabra and R. S. Bichkar   ,       “   Performance prediction of engineering students using decision trees   ,      ”    Int. J. Comput. Appl.   ,    vol. 36   ,    no. 11   ,    pp. 8 12   ,    2011.   13  Sinha   ,    T.   ,    Jermann   ,    P.   ,    Li   ,    N.   ,    Dillenbourg   ,    P.  2014 .    “   Your click decides your fate: Inferring Information Processing and Attrition Behavior from MOOC Video Clickstream Interactions.   ”    Proc. of the 2014 Empirical Methods in Natural Language Processing Workshop on Modeling Large Scale Social Interaction in Massively Open Online Courses.   14  Svozil D   ,    Kvasnicka V   ,    Pospichal J.    “   Introduction to multi layer feed forward neural networks.   ”    Chemometrics and intelligent laboratory systems 1997;39 1 :43 62.   15  Tharwat   ,    Alaa & Gaber   ,    Tarek & Ibrahim   ,    Abdelhameed & Hassanien   ,    Aboul Ella.  2017 .    “   Linear discriminant analysis: A detailed tutorial.   ”    Ai Communications. 30. 169 190   ,   . 10.3233/AIC 170729.   16  W. Xing and D. Du   ,       “   Dropout Prediction in MOOCs: Using Deep Learning for Personalized Intervention   ,      ”    J. Educ. Comput. Res.   ,    2018.   17  Scipy. Retrieved from https://docs.scipy.org/doc/scipy/reference/tutorial/general.html  152 ISSN: 2582 2640  online  ; Submitted: 08.05.2020 e Accepted: 21.06.2020 ; Lv  Published: 27.06.2020 —      \n",
            "WORD SPLIT:  687 ['REFERENCES', '1', 'A.D.', 'Ho', 'etal.', ',', '“', 'HarvardX', 'and', 'MITx:', 'The', 'First', 'Year', 'of', 'Open', 'Online', 'Courses', ',', 'Fall', '2012', 'Summer', '2013', ',', '”', 'SSRN', 'Electron.', 'JNo.', '1', ',', 'pp.', '1', '33', ',', '2014.', '2', 'Abidi', ',', 'S.M.R.;', 'Hussain', ',', 'M.;', 'Xu', ',', 'Y.;', 'Zhang', ',', 'W.', '“', 'Prediction', 'of', 'Confusion', 'Attempting', 'Algebra', 'Homework', 'in', 'an', 'Intelligent', 'Tutoring', 'System', 'through', 'Machine', 'Learning', 'Techniques', 'for', 'Educational', 'Sustainable', 'Development.', '”', 'Sustainability', '2019', ',', '11', ',', '105.', '3', 'Al', 'Shabandar', ',', 'R.', ',', 'Hussain', ',', 'A', ',', 'Laws', ',', 'A.', ',', 'Keight', ',', 'R.', ',', '&', 'Lunn', ',', 'J.', '2017', '.', '“', 'Machine', 'learning', 'approaches', 'to', 'predict', 'learning', 'outcomes', 'in', 'massive', 'open', 'online', 'courses.', '”', 'Paper', 'presented', 'at', 'the', '2017', 'international', 'joint', 'conference', 'on', 'neural', 'networks', 'IJCNN', '2017', ',', 'Anchorage', ',', 'Alaska', ',', 'USA.', '4', 'C.', 'Peng', ',', 'K.', 'Lee', ',', 'and', 'G.', 'M.', 'Ingersoll', ',', '“', 'An', 'introduction', 'to', 'logistic', 'regression', 'analysis', 'and', 'reporting', ',', '”', 'J.', 'Educ.', 'Res.', ',', 'vol.', '96', ',', 'pp.', '3', '14', ',', '2002.', '151', 'ISSN:', '2582', '2640', 'online', 'Submitted:', '08.05.2020', 'a', 'Accepted:', '21.06.2020', '7', 'we', 'Published:', '27.06.2020', '—', 'Journal', 'of', 'Soft', 'Computing', 'Paradigm', 'JSCP', '2020', 'Vol.02/', 'No.03', 'Pages:', '140', '152', 'http://irojournals.com/jscp/', 'DOI:', 'https://doi.org/10.36548/jscp.2020.3.001', '5', 'D.', 'S.', 'Chaplot', ',', 'E.', 'Rhim', ',', 'and', 'J.', 'Kim', ',', '“', 'Predicting', 'student', 'attrition', 'in', 'MOOCs', 'using', 'sentiment', 'analysis', 'and', 'neural', 'networks', ',', '”', 'Work.', '17th', 'Int.', 'Conf.', 'Artif.', 'Intell.', 'Educ.', 'AIED', 'WS', '2015', ',', 'vol.', '1432', ',', 'pp.', '7', '12', ',', '2015.', '6', 'D.', 'S.', 'Chaplot', ',', 'E.', 'Rhim', ',', 'and', 'J.', 'Kim', ',', '“', 'Predicting', 'student', 'attrition', 'in', 'MOOCs', 'using', 'sentiment', 'analysis', 'and', 'neural', 'networks', ',', '”', 'in', 'Fourth', 'Workshop', 'on', 'Intelligent', 'Support', 'for', 'Learning', 'in', 'Groups', ',', 'Madrid', ',', 'Spain', ',', 'June', '2015.', '7', 'Halawa', ',', 'S.;', 'Greene', ',', 'D.;', 'and', 'Mitchell', ',', 'J.', '2014.', '“', 'Dropout', 'prediction', 'in', 'MOOCs', 'using', 'learner', 'activity', 'features.', '”', 'In', 'Proceedings', 'of', 'the', 'European', 'MOOC', 'Summit.', '8', 'M.', 'Kloft', ',', 'F.', 'Stiehler', ',', 'Z.', 'Zheng', ',', 'and', 'N.', 'Pinkwart', ',', '“', 'Predicting', 'MOOC', 'dropout', 'over', 'weeks', 'using', 'machine', 'learning', 'methods', ',', '”', 'in', 'Conference', 'on', 'Empirical', 'Methods', 'in', 'Natural', 'Language', 'Processing', 'EMNLP', ',', 'Doha', ',', 'Qatar', ',', 'October', '2014.', '9', 'Mongkhonavit', ',', 'K.', ',', 'Kanopa', ',', 'K.', 'and', 'Lang', ',', 'D.', '2019', '.', '“', 'Deep', 'Knowledge', 'Tracing', 'and', 'Engagement', 'with', 'MOOCs.', '”', 'Proceedings', 'of', 'the', '9th', 'International', 'Conference', 'on', 'Learning', 'Analytics', '&', 'Knowledge.', 'Pp.', '340', '342', ',', 'Tempe', ',', 'AZ', ',', 'USA', '—', 'March', '04', '08', ',', '2019.', '10', 'P.', 'Viszlay', ',', 'M.', 'Lojka', 'and', 'J.', 'Juhar', ',', '“', '“', 'Class', 'dependent', 'two', 'dimensional', 'linear', 'discriminant', 'analysis', 'using', 'two', 'pass', 'recognition', 'strategy', '”', ',', 'in:', 'Proceedings', 'of', 'the', '22nd', 'European', 'Signal', 'Processing', 'Conference', 'EUSIPCO', ',', 'IEEE', ',', '2014', ',', 'pp.', '1796', '1800.', '11', 'R.', 'F.', 'Kizilcec', ',', 'C.', 'Piech', ',', 'and', 'E.', 'Schneider', ',', '“', 'Deconstructing', 'Disengagement:', 'Analyzing', 'Learner', 'Subpopulations', 'in', 'Massive', 'Open', 'Online', 'Courses', ',', '”', 'Lak', '’', '13', ',', 'p.', '10', ',', '2013.', '12', 'R.', 'R.', 'Kabra', 'and', 'R.', 'S.', 'Bichkar', ',', '“', 'Performance', 'prediction', 'of', 'engineering', 'students', 'using', 'decision', 'trees', ',', '”', 'Int.', 'J.', 'Comput.', 'Appl.', ',', 'vol.', '36', ',', 'no.', '11', ',', 'pp.', '8', '12', ',', '2011.', '13', 'Sinha', ',', 'T.', ',', 'Jermann', ',', 'P.', ',', 'Li', ',', 'N.', ',', 'Dillenbourg', ',', 'P.', '2014', '.', '“', 'Your', 'click', 'decides', 'your', 'fate:', 'Inferring', 'Information', 'Processing', 'and', 'Attrition', 'Behavior', 'from', 'MOOC', 'Video', 'Clickstream', 'Interactions.', '”', 'Proc.', 'of', 'the', '2014', 'Empirical', 'Methods', 'in', 'Natural', 'Language', 'Processing', 'Workshop', 'on', 'Modeling', 'Large', 'Scale', 'Social', 'Interaction', 'in', 'Massively', 'Open', 'Online', 'Courses.', '14', 'Svozil', 'D', ',', 'Kvasnicka', 'V', ',', 'Pospichal', 'J.', '“', 'Introduction', 'to', 'multi', 'layer', 'feed', 'forward', 'neural', 'networks.', '”', 'Chemometrics', 'and', 'intelligent', 'laboratory', 'systems', '1997;39', '1', ':43', '62.', '15', 'Tharwat', ',', 'Alaa', '&', 'Gaber', ',', 'Tarek', '&', 'Ibrahim', ',', 'Abdelhameed', '&', 'Hassanien', ',', 'Aboul', 'Ella.', '2017', '.', '“', 'Linear', 'discriminant', 'analysis:', 'A', 'detailed', 'tutorial.', '”', 'Ai', 'Communications.', '30.', '169', '190', ',', '.', '10.3233/AIC', '170729.', '16', 'W.', 'Xing', 'and', 'D.', 'Du', ',', '“', 'Dropout', 'Prediction', 'in', 'MOOCs:', 'Using', 'Deep', 'Learning', 'for', 'Personalized', 'Intervention', ',', '”', 'J.', 'Educ.', 'Comput.', 'Res.', ',', '2018.', '17', 'Scipy.', 'Retrieved', 'from', 'https://docs.scipy.org/doc/scipy/reference/tutorial/general.html', '152', 'ISSN:', '2582', '2640', 'online', ';', 'Submitted:', '08.05.2020', 'e', 'Accepted:', '21.06.2020', ';', 'Lv', 'Published:', '27.06.2020', '—']\n",
            "PROPER NOUN:  ['REFERENCES', 'A.D.', 'Ho', 'HarvardX', 'MITx:', 'The', 'First', 'Year', 'Open', 'Online', 'Courses', 'Fall', 'Summer', 'SSRN', 'Electron.', 'JNo.', 'Abidi', 'S.M.R.;', 'Hussain', 'M.;', 'Xu', 'Y.;', 'Zhang', 'W.', 'Prediction', 'Confusion', 'Attempting', 'Algebra', 'Homework', 'Intelligent', 'Tutoring', 'System', 'Machine', 'Learning', 'Techniques', 'Educational', 'Sustainable', 'Development.', 'Sustainability', 'Al', 'Shabandar', 'R.', 'Hussain', 'A', 'Laws', 'A.', 'Keight', 'R.', 'Lunn', 'J.', 'Machine', 'Paper', 'IJCNN', 'Anchorage', 'Alaska', 'USA.', 'C.', 'Peng', 'K.', 'Lee', 'G.', 'M.', 'Ingersoll', 'An', 'J.', 'Educ.', 'Res.', 'ISSN:', 'Submitted:', 'Accepted:', 'Published:', 'Journal', 'Soft', 'Computing', 'Paradigm', 'JSCP', 'Vol.02/', 'No.03', 'Pages:', 'DOI:', 'D.', 'S.', 'Chaplot', 'E.', 'Rhim', 'J.', 'Kim', 'Predicting', 'MOOCs', 'Work.', 'Int.', 'Conf.', 'Artif.', 'Intell.', 'Educ.', 'AIED', 'WS', 'D.', 'S.', 'Chaplot', 'E.', 'Rhim', 'J.', 'Kim', 'Predicting', 'MOOCs', 'Fourth', 'Workshop', 'Intelligent', 'Support', 'Learning', 'Groups', 'Madrid', 'Spain', 'June', 'Halawa', 'S.;', 'Greene', 'D.;', 'Mitchell', 'J.', 'Dropout', 'MOOCs', 'In', 'Proceedings', 'European', 'MOOC', 'Summit.', 'M.', 'Kloft', 'F.', 'Stiehler', 'Z.', 'Zheng', 'N.', 'Pinkwart', 'Predicting', 'MOOC', 'Conference', 'Empirical', 'Methods', 'Natural', 'Language', 'Processing', 'EMNLP', 'Doha', 'Qatar', 'October', 'Mongkhonavit', 'K.', 'Kanopa', 'K.', 'Lang', 'D.', 'Deep', 'Knowledge', 'Tracing', 'Engagement', 'MOOCs.', 'Proceedings', 'International', 'Conference', 'Learning', 'Analytics', 'Knowledge.', 'Pp.', 'Tempe', 'AZ', 'USA', 'March', 'P.', 'Viszlay', 'M.', 'Lojka', 'J.', 'Juhar', 'Class', 'Proceedings', 'European', 'Signal', 'Processing', 'Conference', 'EUSIPCO', 'IEEE', 'R.', 'F.', 'Kizilcec', 'C.', 'Piech', 'E.', 'Schneider', 'Deconstructing', 'Disengagement:', 'Analyzing', 'Learner', 'Subpopulations', 'Massive', 'Open', 'Online', 'Courses', 'Lak', 'R.', 'R.', 'Kabra', 'R.', 'S.', 'Bichkar', 'Performance', 'Int.', 'J.', 'Comput.', 'Appl.', 'Sinha', 'T.', 'Jermann', 'P.', 'Li', 'N.', 'Dillenbourg', 'P.', 'Your', 'Inferring', 'Information', 'Processing', 'Attrition', 'Behavior', 'MOOC', 'Video', 'Clickstream', 'Interactions.', 'Proc.', 'Empirical', 'Methods', 'Natural', 'Language', 'Processing', 'Workshop', 'Modeling', 'Large', 'Scale', 'Social', 'Interaction', 'Massively', 'Open', 'Online', 'Courses.', 'Svozil', 'D', 'Kvasnicka', 'V', 'Pospichal', 'J.', 'Introduction', 'Chemometrics', 'Tharwat', 'Alaa', 'Gaber', 'Tarek', 'Ibrahim', 'Abdelhameed', 'Hassanien', 'Aboul', 'Ella.', 'Linear', 'A', 'Ai', 'Communications.', 'W.', 'Xing', 'D.', 'Du', 'Dropout', 'Prediction', 'MOOCs:', 'Using', 'Deep', 'Learning', 'Personalized', 'Intervention', 'J.', 'Educ.', 'Comput.', 'Res.', 'Scipy.', 'Retrieved', 'ISSN:', 'Submitted:', 'Accepted:', 'Lv', 'Published:']\n",
            "EMAIL:  []\n",
            "URL:  ['http://irojournals.com/jscp/', 'https://doi.org/10.36548/jscp.2020.3.001', 'https://docs.scipy.org/doc/scipy/reference/tutorial/general.html']\n",
            "INCORRECT WORDS:  ['etal.', '&', '—', '&', '—', 'in:', 'fate:', '1997;39', ':43', '&', '&', '&', 'analysis:', '10.3233/AIC', ';', ';', '—']\n",
            "CORRECT WORDS:  [['teal', 'eta', 'metal', 'petal', 'fetal', 'tale', 'etas', 'ital', 'Ital', 'eta l'], ['e', 's', 'i', 'a', 'n', 'r', 't', 'o', 'l', 'c', 'd', 'u', 'g', 'm', 'p'], ['e', 's', 'i', 'a', 'n', 'r', 't', 'o', 'l', 'c', 'd', 'u', 'g', 'm', 'p'], ['e', 's', 'i', 'a', 'n', 'r', 't', 'o', 'l', 'c', 'd', 'u', 'g', 'm', 'p'], ['e', 's', 'i', 'a', 'n', 'r', 't', 'o', 'l', 'c', 'd', 'u', 'g', 'm', 'p'], ['in', 'ins', 'inn', 'int', 'inc', 'ind', 'inf', 'ink'], ['fate', 'fates', 'fated', 'Fates'], [], [], ['e', 's', 'i', 'a', 'n', 'r', 't', 'o', 'l', 'c', 'd', 'u', 'g', 'm', 'p'], ['e', 's', 'i', 'a', 'n', 'r', 't', 'o', 'l', 'c', 'd', 'u', 'g', 'm', 'p'], ['e', 's', 'i', 'a', 'n', 'r', 't', 'o', 'l', 'c', 'd', 'u', 'g', 'm', 'p'], ['analysis', 'urinalysis'], [], ['e', 's', 'i', 'a', 'n', 'r', 't', 'o', 'l', 'c', 'd', 'u', 'g', 'm', 'p'], ['e', 's', 'i', 'a', 'n', 'r', 't', 'o', 'l', 'c', 'd', 'u', 'g', 'm', 'p'], ['e', 's', 'i', 'a', 'n', 'r', 't', 'o', 'l', 'c', 'd', 'u', 'g', 'm', 'p']]\n",
            "FINAL INCORRECT WORDS:  ['etal.', '&', '—', '&', '—', 'in:', 'fate:', '1997;39', ':43', '&', '&', '&', 'analysis:', '10.3233/AIC', ';', ';', '—']\n",
            "FINAL CORRECT WORDS:  [['teal', 'eta', 'metal', 'petal', 'fetal', 'tale', 'etas', 'ital', 'Ital', 'eta l'], ['e', 's', 'i', 'a', 'n', 'r', 't', 'o', 'l', 'c', 'd', 'u', 'g', 'm', 'p'], ['e', 's', 'i', 'a', 'n', 'r', 't', 'o', 'l', 'c', 'd', 'u', 'g', 'm', 'p'], ['e', 's', 'i', 'a', 'n', 'r', 't', 'o', 'l', 'c', 'd', 'u', 'g', 'm', 'p'], ['e', 's', 'i', 'a', 'n', 'r', 't', 'o', 'l', 'c', 'd', 'u', 'g', 'm', 'p'], ['in', 'ins', 'inn', 'int', 'inc', 'ind', 'inf', 'ink'], ['fate', 'fates', 'fated', 'Fates'], [], [], ['e', 's', 'i', 'a', 'n', 'r', 't', 'o', 'l', 'c', 'd', 'u', 'g', 'm', 'p'], ['e', 's', 'i', 'a', 'n', 'r', 't', 'o', 'l', 'c', 'd', 'u', 'g', 'm', 'p'], ['e', 's', 'i', 'a', 'n', 'r', 't', 'o', 'l', 'c', 'd', 'u', 'g', 'm', 'p'], ['analysis', 'urinalysis'], [], ['e', 's', 'i', 'a', 'n', 'r', 't', 'o', 'l', 'c', 'd', 'u', 'g', 'm', 'p'], ['e', 's', 'i', 'a', 'n', 'r', 't', 'o', 'l', 'c', 'd', 'u', 'g', 'm', 'p'], ['e', 's', 'i', 'a', 'n', 'r', 't', 'o', 'l', 'c', 'd', 'u', 'g', 'm', 'p']]\n",
            "BEFORE:  ['REFERENCES', '', 'A.D.', 'Ho', 'etal.', '', '', 'HarvardX', 'and', 'MITx:', 'The', 'First', 'Year', 'of', 'Open', 'Online', 'Courses', '', 'Fall', '2012', 'Summer', '2013', '', '', 'SSRN', 'Electron.', 'JNo.', '', '', 'pp.', '', '33', '', '2014.', '', 'Abidi', '', 'S.M.R.;', 'Hussain', '', 'M.;', 'Xu', '', 'Y.;', 'Zhang', '', 'W.', '', 'Prediction', 'of', 'Confusion', 'Attempting', 'Algebra', 'Homework', 'in', 'an', 'Intelligent', 'Tutoring', 'System', 'through', 'Machine', 'Learning', 'Techniques', 'for', 'Educational', 'Sustainable', 'Development.', '', 'Sustainability', '2019', '', '11', '', '105.', '', 'Al', 'Shabandar', '', 'R.', '', 'Hussain', '', '', '', 'Laws', '', 'A.', '', 'Keight', '', 'R.', '', '', 'Lunn', '', 'J.', '2017', '', '', 'Machine', 'learning', 'approaches', 'to', 'predict', 'learning', 'outcomes', 'in', 'massive', 'open', 'online', 'courses.', '', 'Paper', 'presented', 'at', 'the', '2017', 'international', 'joint', 'conference', 'on', 'neural', 'networks', 'IJCNN', '2017', '', 'Anchorage', '', 'Alaska', '', 'USA.', '', 'C.', 'Peng', '', 'K.', 'Lee', '', 'and', 'G.', 'M.', 'Ingersoll', '', '', 'An', 'introduction', 'to', 'logistic', 'regression', 'analysis', 'and', 'reporting', '', '', 'J.', 'Educ.', 'Res.', '', 'vol.', '96', '', 'pp.', '', '14', '', '2002.', '151', 'ISSN:', '2582', '2640', 'online', 'Submitted:', '08.05.2020', '', 'Accepted:', '21.06.2020', '', 'we', 'Published:', '27.06.2020', '', 'Journal', 'of', 'Soft', 'Computing', 'Paradigm', 'JSCP', '2020', 'Vol.02/', 'No.03', 'Pages:', '140', '152', 'http://irojournals.com/jscp/', 'DOI:', 'https://doi.org/10.36548/jscp.2020.3.001', '', 'D.', 'S.', 'Chaplot', '', 'E.', 'Rhim', '', 'and', 'J.', 'Kim', '', '', 'Predicting', 'student', 'attrition', 'in', 'MOOCs', 'using', 'sentiment', 'analysis', 'and', 'neural', 'networks', '', '', 'Work.', '17th', 'Int.', 'Conf.', 'Artif.', 'Intell.', 'Educ.', 'AIED', 'WS', '2015', '', 'vol.', '1432', '', 'pp.', '', '12', '', '2015.', '', 'D.', 'S.', 'Chaplot', '', 'E.', 'Rhim', '', 'and', 'J.', 'Kim', '', '', 'Predicting', 'student', 'attrition', 'in', 'MOOCs', 'using', 'sentiment', 'analysis', 'and', 'neural', 'networks', '', '', 'in', 'Fourth', 'Workshop', 'on', 'Intelligent', 'Support', 'for', 'Learning', 'in', 'Groups', '', 'Madrid', '', 'Spain', '', 'June', '2015.', '', 'Halawa', '', 'S.;', 'Greene', '', 'D.;', 'and', 'Mitchell', '', 'J.', '2014.', '', 'Dropout', 'prediction', 'in', 'MOOCs', 'using', 'learner', 'activity', 'features.', '', 'In', 'Proceedings', 'of', 'the', 'European', 'MOOC', 'Summit.', '', 'M.', 'Kloft', '', 'F.', 'Stiehler', '', 'Z.', 'Zheng', '', 'and', 'N.', 'Pinkwart', '', '', 'Predicting', 'MOOC', 'dropout', 'over', 'weeks', 'using', 'machine', 'learning', 'methods', '', '', 'in', 'Conference', 'on', 'Empirical', 'Methods', 'in', 'Natural', 'Language', 'Processing', 'EMNLP', '', 'Doha', '', 'Qatar', '', 'October', '2014.', '', 'Mongkhonavit', '', 'K.', '', 'Kanopa', '', 'K.', 'and', 'Lang', '', 'D.', '2019', '', '', 'Deep', 'Knowledge', 'Tracing', 'and', 'Engagement', 'with', 'MOOCs.', '', 'Proceedings', 'of', 'the', '9th', 'International', 'Conference', 'on', 'Learning', 'Analytics', '', 'Knowledge.', 'Pp.', '340', '342', '', 'Tempe', '', 'AZ', '', 'USA', '', 'March', '04', '08', '', '2019.', '10', 'P.', 'Viszlay', '', 'M.', 'Lojka', 'and', 'J.', 'Juhar', '', '', '', 'Class', 'dependent', 'two', 'dimensional', 'linear', 'discriminant', 'analysis', 'using', 'two', 'pass', 'recognition', 'strategy', '', '', 'in:', 'Proceedings', 'of', 'the', '22nd', 'European', 'Signal', 'Processing', 'Conference', 'EUSIPCO', '', 'IEEE', '', '2014', '', 'pp.', '1796', '1800.', '11', 'R.', 'F.', 'Kizilcec', '', 'C.', 'Piech', '', 'and', 'E.', 'Schneider', '', '', 'Deconstructing', 'Disengagement:', 'Analyzing', 'Learner', 'Subpopulations', 'in', 'Massive', 'Open', 'Online', 'Courses', '', '', 'Lak', '', '13', '', 'p.', '10', '', '2013.', '12', 'R.', 'R.', 'Kabra', 'and', 'R.', 'S.', 'Bichkar', '', '', 'Performance', 'prediction', 'of', 'engineering', 'students', 'using', 'decision', 'trees', '', '', 'Int.', 'J.', 'Comput.', 'Appl.', '', 'vol.', '36', '', 'no.', '11', '', 'pp.', '', '12', '', '2011.', '13', 'Sinha', '', 'T.', '', 'Jermann', '', 'P.', '', 'Li', '', 'N.', '', 'Dillenbourg', '', 'P.', '2014', '', '', 'Your', 'click', 'decides', 'your', 'fate:', 'Inferring', 'Information', 'Processing', 'and', 'Attrition', 'Behavior', 'from', 'MOOC', 'Video', 'Clickstream', 'Interactions.', '', 'Proc.', 'of', 'the', '2014', 'Empirical', 'Methods', 'in', 'Natural', 'Language', 'Processing', 'Workshop', 'on', 'Modeling', 'Large', 'Scale', 'Social', 'Interaction', 'in', 'Massively', 'Open', 'Online', 'Courses.', '14', 'Svozil', '', '', 'Kvasnicka', '', '', 'Pospichal', 'J.', '', 'Introduction', 'to', 'multi', 'layer', 'feed', 'forward', 'neural', 'networks.', '', 'Chemometrics', 'and', 'intelligent', 'laboratory', 'systems', '1997;39', '', ':43', '62.', '15', 'Tharwat', '', 'Alaa', '', 'Gaber', '', 'Tarek', '', 'Ibrahim', '', 'Abdelhameed', '', 'Hassanien', '', 'Aboul', 'Ella.', '2017', '', '', 'Linear', 'discriminant', 'analysis:', '', 'detailed', 'tutorial.', '', 'Ai', 'Communications.', '30.', '169', '190', '', '', '10.3233/AIC', '170729.', '16', 'W.', 'Xing', 'and', 'D.', 'Du', '', '', 'Dropout', 'Prediction', 'in', 'MOOCs:', 'Using', 'Deep', 'Learning', 'for', 'Personalized', 'Intervention', '', '', 'J.', 'Educ.', 'Comput.', 'Res.', '', '2018.', '17', 'Scipy.', 'Retrieved', 'from', 'https://docs.scipy.org/doc/scipy/reference/tutorial/general.html', '152', 'ISSN:', '2582', '2640', 'online', '', 'Submitted:', '08.05.2020', '', 'Accepted:', '21.06.2020', '', 'Lv', 'Published:', '27.06.2020', '']\n",
            "AFTER:  ['REFERENCES', '', 'A.D.', 'Ho', '[MASK]', '', '', 'HarvardX', 'and', 'MITx:', 'The', 'First', 'Year', 'of', 'Open', 'Online', 'Courses', '', 'Fall', '2012', 'Summer', '2013', '', '', 'SSRN', 'Electron.', 'JNo.', '', '', 'pp.', '', '33', '', '2014.', '', 'Abidi', '', 'S.M.R.;', 'Hussain', '', 'M.;', 'Xu', '', 'Y.;', 'Zhang', '', 'W.', '', 'Prediction', 'of', 'Confusion', 'Attempting', 'Algebra', 'Homework', 'in', 'an', 'Intelligent', 'Tutoring', 'System', 'through', 'Machine', 'Learning', 'Techniques', 'for', 'Educational', 'Sustainable', 'Development.', '', 'Sustainability', '2019', '', '11', '', '105.', '', 'Al', 'Shabandar', '', 'R.', '', 'Hussain', '', '', '', 'Laws', '', 'A.', '', 'Keight', '', 'R.', '', '', 'Lunn', '', 'J.', '2017', '', '', 'Machine', 'learning', 'approaches', 'to', 'predict', 'learning', 'outcomes', 'in', 'massive', 'open', 'online', 'courses.', '', 'Paper', 'presented', 'at', 'the', '2017', 'international', 'joint', 'conference', 'on', 'neural', 'networks', 'IJCNN', '2017', '', 'Anchorage', '', 'Alaska', '', 'USA.', '', 'C.', 'Peng', '', 'K.', 'Lee', '', 'and', 'G.', 'M.', 'Ingersoll', '', '', 'An', 'introduction', 'to', 'logistic', 'regression', 'analysis', 'and', 'reporting', '', '', 'J.', 'Educ.', 'Res.', '', 'vol.', '96', '', 'pp.', '', '14', '', '2002.', '151', 'ISSN:', '2582', '2640', 'online', 'Submitted:', '08.05.2020', '', 'Accepted:', '21.06.2020', '', 'we', 'Published:', '27.06.2020', '', 'Journal', 'of', 'Soft', 'Computing', 'Paradigm', 'JSCP', '2020', 'Vol.02/', 'No.03', 'Pages:', '140', '152', 'http://irojournals.com/jscp/', 'DOI:', 'https://doi.org/10.36548/jscp.2020.3.001', '', 'D.', 'S.', 'Chaplot', '', 'E.', 'Rhim', '', 'and', 'J.', 'Kim', '', '', 'Predicting', 'student', 'attrition', 'in', 'MOOCs', 'using', 'sentiment', 'analysis', 'and', 'neural', 'networks', '', '', 'Work.', '17th', 'Int.', 'Conf.', 'Artif.', 'Intell.', 'Educ.', 'AIED', 'WS', '2015', '', 'vol.', '1432', '', 'pp.', '', '12', '', '2015.', '', 'D.', 'S.', 'Chaplot', '', 'E.', 'Rhim', '', 'and', 'J.', 'Kim', '', '', 'Predicting', 'student', 'attrition', 'in', 'MOOCs', 'using', 'sentiment', 'analysis', 'and', 'neural', 'networks', '', '', 'in', 'Fourth', 'Workshop', 'on', 'Intelligent', 'Support', 'for', 'Learning', 'in', 'Groups', '', 'Madrid', '', 'Spain', '', 'June', '2015.', '', 'Halawa', '', 'S.;', 'Greene', '', 'D.;', 'and', 'Mitchell', '', 'J.', '2014.', '', 'Dropout', 'prediction', 'in', 'MOOCs', 'using', 'learner', 'activity', 'features.', '', 'In', 'Proceedings', 'of', 'the', 'European', 'MOOC', 'Summit.', '', 'M.', 'Kloft', '', 'F.', 'Stiehler', '', 'Z.', 'Zheng', '', 'and', 'N.', 'Pinkwart', '', '', 'Predicting', 'MOOC', 'dropout', 'over', 'weeks', 'using', 'machine', 'learning', 'methods', '', '', 'in', 'Conference', 'on', 'Empirical', 'Methods', 'in', 'Natural', 'Language', 'Processing', 'EMNLP', '', 'Doha', '', 'Qatar', '', 'October', '2014.', '', 'Mongkhonavit', '', 'K.', '', 'Kanopa', '', 'K.', 'and', 'Lang', '', 'D.', '2019', '', '', 'Deep', 'Knowledge', 'Tracing', 'and', 'Engagement', 'with', 'MOOCs.', '', 'Proceedings', 'of', 'the', '9th', 'International', 'Conference', 'on', 'Learning', 'Analytics', '', 'Knowledge.', 'Pp.', '340', '342', '', 'Tempe', '', 'AZ', '', 'USA', '', 'March', '04', '08', '', '2019.', '10', 'P.', 'Viszlay', '', 'M.', 'Lojka', 'and', 'J.', 'Juhar', '', '', '', 'Class', 'dependent', 'two', 'dimensional', 'linear', 'discriminant', 'analysis', 'using', 'two', 'pass', 'recognition', 'strategy', '', '', '[MASK]', 'Proceedings', 'of', 'the', '22nd', 'European', 'Signal', 'Processing', 'Conference', 'EUSIPCO', '', 'IEEE', '', '2014', '', 'pp.', '1796', '1800.', '11', 'R.', 'F.', 'Kizilcec', '', 'C.', 'Piech', '', 'and', 'E.', 'Schneider', '', '', 'Deconstructing', 'Disengagement:', 'Analyzing', 'Learner', 'Subpopulations', 'in', 'Massive', 'Open', 'Online', 'Courses', '', '', 'Lak', '', '13', '', 'p.', '10', '', '2013.', '12', 'R.', 'R.', 'Kabra', 'and', 'R.', 'S.', 'Bichkar', '', '', 'Performance', 'prediction', 'of', 'engineering', 'students', 'using', 'decision', 'trees', '', '', 'Int.', 'J.', 'Comput.', 'Appl.', '', 'vol.', '36', '', 'no.', '11', '', 'pp.', '', '12', '', '2011.', '13', 'Sinha', '', 'T.', '', 'Jermann', '', 'P.', '', 'Li', '', 'N.', '', 'Dillenbourg', '', 'P.', '2014', '', '', 'Your', 'click', 'decides', 'your', '[MASK]', 'Inferring', 'Information', 'Processing', 'and', 'Attrition', 'Behavior', 'from', 'MOOC', 'Video', 'Clickstream', 'Interactions.', '', 'Proc.', 'of', 'the', '2014', 'Empirical', 'Methods', 'in', 'Natural', 'Language', 'Processing', 'Workshop', 'on', 'Modeling', 'Large', 'Scale', 'Social', 'Interaction', 'in', 'Massively', 'Open', 'Online', 'Courses.', '14', 'Svozil', '', '', 'Kvasnicka', '', '', 'Pospichal', 'J.', '', 'Introduction', 'to', 'multi', 'layer', 'feed', 'forward', 'neural', 'networks.', '', 'Chemometrics', 'and', 'intelligent', 'laboratory', 'systems', '[MASK]', '', '[MASK]', '62.', '15', 'Tharwat', '', 'Alaa', '', 'Gaber', '', 'Tarek', '', 'Ibrahim', '', 'Abdelhameed', '', 'Hassanien', '', 'Aboul', 'Ella.', '2017', '', '', 'Linear', 'discriminant', '[MASK]', '', 'detailed', 'tutorial.', '', 'Ai', 'Communications.', '30.', '169', '190', '', '', '[MASK]', '170729.', '16', 'W.', 'Xing', 'and', 'D.', 'Du', '', '', 'Dropout', 'Prediction', 'in', 'MOOCs:', 'Using', 'Deep', 'Learning', 'for', 'Personalized', 'Intervention', '', '', 'J.', 'Educ.', 'Comput.', 'Res.', '', '2018.', '17', 'Scipy.', 'Retrieved', 'from', 'https://docs.scipy.org/doc/scipy/reference/tutorial/general.html', '152', 'ISSN:', '2582', '2640', 'online', '', 'Submitted:', '08.05.2020', '', 'Accepted:', '21.06.2020', '', 'Lv', 'Published:', '27.06.2020', '']\n",
            "687\n",
            "FINAL TEXT REPLACED WITH ERRORS:  REFERENCES  A.D. Ho [MASK]   HarvardX and MITx: The First Year of Open Online Courses  Fall 2012 Summer 2013   SSRN Electron. JNo.   pp.  33  2014.  Abidi  S.M.R.; Hussain  M.; Xu  Y.; Zhang  W.  Prediction of Confusion Attempting Algebra Homework in an Intelligent Tutoring System through Machine Learning Techniques for Educational Sustainable Development.  Sustainability 2019  11  105.  Al Shabandar  R.  Hussain    Laws  A.  Keight  R.   Lunn  J. 2017   Machine learning approaches to predict learning outcomes in massive open online courses.  Paper presented at the 2017 international joint conference on neural networks IJCNN 2017  Anchorage  Alaska  USA.  C. Peng  K. Lee  and G. M. Ingersoll   An introduction to logistic regression analysis and reporting   J. Educ. Res.  vol. 96  pp.  14  2002. 151 ISSN: 2582 2640 online Submitted: 08.05.2020  Accepted: 21.06.2020  we Published: 27.06.2020  Journal of Soft Computing Paradigm JSCP 2020 Vol.02/ No.03 Pages: 140 152 http://irojournals.com/jscp/ DOI: https://doi.org/10.36548/jscp.2020.3.001  D. S. Chaplot  E. Rhim  and J. Kim   Predicting student attrition in MOOCs using sentiment analysis and neural networks   Work. 17th Int. Conf. Artif. Intell. Educ. AIED WS 2015  vol. 1432  pp.  12  2015.  D. S. Chaplot  E. Rhim  and J. Kim   Predicting student attrition in MOOCs using sentiment analysis and neural networks   in Fourth Workshop on Intelligent Support for Learning in Groups  Madrid  Spain  June 2015.  Halawa  S.; Greene  D.; and Mitchell  J. 2014.  Dropout prediction in MOOCs using learner activity features.  In Proceedings of the European MOOC Summit.  M. Kloft  F. Stiehler  Z. Zheng  and N. Pinkwart   Predicting MOOC dropout over weeks using machine learning methods   in Conference on Empirical Methods in Natural Language Processing EMNLP  Doha  Qatar  October 2014.  Mongkhonavit  K.  Kanopa  K. and Lang  D. 2019   Deep Knowledge Tracing and Engagement with MOOCs.  Proceedings of the 9th International Conference on Learning Analytics  Knowledge. Pp. 340 342  Tempe  AZ  USA  March 04 08  2019. 10 P. Viszlay  M. Lojka and J. Juhar    Class dependent two dimensional linear discriminant analysis using two pass recognition strategy   [MASK] Proceedings of the 22nd European Signal Processing Conference EUSIPCO  IEEE  2014  pp. 1796 1800. 11 R. F. Kizilcec  C. Piech  and E. Schneider   Deconstructing Disengagement: Analyzing Learner Subpopulations in Massive Open Online Courses   Lak  13  p. 10  2013. 12 R. R. Kabra and R. S. Bichkar   Performance prediction of engineering students using decision trees   Int. J. Comput. Appl.  vol. 36  no. 11  pp.  12  2011. 13 Sinha  T.  Jermann  P.  Li  N.  Dillenbourg  P. 2014   Your click decides your [MASK] Inferring Information Processing and Attrition Behavior from MOOC Video Clickstream Interactions.  Proc. of the 2014 Empirical Methods in Natural Language Processing Workshop on Modeling Large Scale Social Interaction in Massively Open Online Courses. 14 Svozil   Kvasnicka   Pospichal J.  Introduction to multi layer feed forward neural networks.  Chemometrics and intelligent laboratory systems [MASK]  [MASK] 62. 15 Tharwat  Alaa  Gaber  Tarek  Ibrahim  Abdelhameed  Hassanien  Aboul Ella. 2017   Linear discriminant [MASK]  detailed tutorial.  Ai Communications. 30. 169 190   [MASK] 170729. 16 W. Xing and D. Du   Dropout Prediction in MOOCs: Using Deep Learning for Personalized Intervention   J. Educ. Comput. Res.  2018. 17 Scipy. Retrieved from https://docs.scipy.org/doc/scipy/reference/tutorial/general.html 152 ISSN: 2582 2640 online  Submitted: 08.05.2020  Accepted: 21.06.2020  Lv Published: 27.06.2020  \n"
          ],
          "name": "stdout"
        }
      ]
    },
    {
      "cell_type": "code",
      "metadata": {
        "colab": {
          "base_uri": "https://localhost:8080/"
        },
        "id": "-k_JnJVJPDZ1",
        "outputId": "a6ddda06-aae2-4659-a497-3bd5194a20d1"
      },
      "source": [
        "def predict_word(text_original_replaced, final_suggestedwords):\n",
        "  for i in range(len(final_suggestedwords)):\n",
        "    predicted_token=''\n",
        "    print(final_suggestedwords[i])\n",
        "    if (len(final_suggestedwords[i])==0):\n",
        "      return text_original_replaced\n",
        "    predicted_token = final_suggestedwords[i][0]\n",
        "    text_original_replaced = text_original_replaced.replace('[MASK]', predicted_token, 1)\n",
        "    return text_original_replaced\n",
        "\n",
        "text_original_final = predict_word(text_original_replaced, final_suggestedwords)\n",
        "print (text_original_final)"
      ],
      "execution_count": null,
      "outputs": [
        {
          "output_type": "stream",
          "text": [
            "['teal', 'eta', 'metal', 'petal', 'fetal', 'tale', 'etas', 'ital', 'Ital', 'eta l']\n",
            "['e', 's', 'i', 'a', 'n', 'r', 't', 'o', 'l', 'c', 'd', 'u', 'g', 'm', 'p']\n",
            "['e', 's', 'i', 'a', 'n', 'r', 't', 'o', 'l', 'c', 'd', 'u', 'g', 'm', 'p']\n",
            "['e', 's', 'i', 'a', 'n', 'r', 't', 'o', 'l', 'c', 'd', 'u', 'g', 'm', 'p']\n",
            "['e', 's', 'i', 'a', 'n', 'r', 't', 'o', 'l', 'c', 'd', 'u', 'g', 'm', 'p']\n",
            "['in', 'ins', 'inn', 'int', 'inc', 'ind', 'inf', 'ink']\n",
            "['fate', 'fates', 'fated', 'Fates']\n",
            "[]\n",
            "REFERENCES  A.D. Ho teal   HarvardX and MITx: The First Year of Open Online Courses  Fall 2012 Summer 2013   SSRN Electron. JNo.   pp.  33  2014.  Abidi  S.M.R.; Hussain  M.; Xu  Y.; Zhang  W.  Prediction of Confusion Attempting Algebra Homework in an Intelligent Tutoring System through Machine Learning Techniques for Educational Sustainable Development.  Sustainability 2019  11  105.  Al Shabandar  R.  Hussain    Laws  A.  Keight  R.   Lunn  J. 2017   Machine learning approaches to predict learning outcomes in massive open online courses.  Paper presented at the 2017 international joint conference on neural networks IJCNN 2017  Anchorage  Alaska  USA.  C. Peng  K. Lee  and G. M. Ingersoll   An introduction to logistic regression analysis and reporting   J. Educ. Res.  vol. 96  pp.  14  2002. 151 ISSN: 2582 2640 online Submitted: 08.05.2020  Accepted: 21.06.2020  we Published: 27.06.2020  Journal of Soft Computing Paradigm JSCP 2020 Vol.02/ No.03 Pages: 140 152 http://irojournals.com/jscp/ DOI: https://doi.org/10.36548/jscp.2020.3.001  D. S. Chaplot  E. Rhim  and J. Kim   Predicting student attrition in MOOCs using sentiment analysis and neural networks   Work. 17th Int. Conf. Artif. Intell. Educ. AIED WS 2015  vol. 1432  pp.  12  2015.  D. S. Chaplot  E. Rhim  and J. Kim   Predicting student attrition in MOOCs using sentiment analysis and neural networks   in Fourth Workshop on Intelligent Support for Learning in Groups  Madrid  Spain  June 2015.  Halawa  S.; Greene  D.; and Mitchell  J. 2014.  Dropout prediction in MOOCs using learner activity features.  In Proceedings of the European MOOC Summit.  M. Kloft  F. Stiehler  Z. Zheng  and N. Pinkwart   Predicting MOOC dropout over weeks using machine learning methods   in Conference on Empirical Methods in Natural Language Processing EMNLP  Doha  Qatar  October 2014.  Mongkhonavit  K.  Kanopa  K. and Lang  D. 2019   Deep Knowledge Tracing and Engagement with MOOCs.  Proceedings of the 9th International Conference on Learning Analytics  Knowledge. Pp. 340 342  Tempe  AZ  USA  March 04 08  2019. 10 P. Viszlay  M. Lojka and J. Juhar    Class dependent two dimensional linear discriminant analysis using two pass recognition strategy   e Proceedings of the 22nd European Signal Processing Conference EUSIPCO  IEEE  2014  pp. 1796 1800. 11 R. F. Kizilcec  C. Piech  and E. Schneider   Deconstructing Disengagement: Analyzing Learner Subpopulations in Massive Open Online Courses   Lak  13  p. 10  2013. 12 R. R. Kabra and R. S. Bichkar   Performance prediction of engineering students using decision trees   Int. J. Comput. Appl.  vol. 36  no. 11  pp.  12  2011. 13 Sinha  T.  Jermann  P.  Li  N.  Dillenbourg  P. 2014   Your click decides your e Inferring Information Processing and Attrition Behavior from MOOC Video Clickstream Interactions.  Proc. of the 2014 Empirical Methods in Natural Language Processing Workshop on Modeling Large Scale Social Interaction in Massively Open Online Courses. 14 Svozil   Kvasnicka   Pospichal J.  Introduction to multi layer feed forward neural networks.  Chemometrics and intelligent laboratory systems e  e 62. 15 Tharwat  Alaa  Gaber  Tarek  Ibrahim  Abdelhameed  Hassanien  Aboul Ella. 2017   Linear discriminant in  detailed tutorial.  Ai Communications. 30. 169 190   fate 170729. 16 W. Xing and D. Du   Dropout Prediction in MOOCs: Using Deep Learning for Personalized Intervention   J. Educ. Comput. Res.  2018. 17 Scipy. Retrieved from https://docs.scipy.org/doc/scipy/reference/tutorial/general.html 152 ISSN: 2582 2640 online  Submitted: 08.05.2020  Accepted: 21.06.2020  Lv Published: 27.06.2020  \n"
          ],
          "name": "stdout"
        }
      ]
    }
  ]
}